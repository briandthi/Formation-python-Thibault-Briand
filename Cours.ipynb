{
 "cells": [
  {
   "cell_type": "markdown",
   "metadata": {},
   "source": [
    "# Formation en python\n",
    "\n",
    "Support de cours. (Ref. T463-001)"
   ]
  },
  {
   "cell_type": "markdown",
   "metadata": {},
   "source": [
    "## Module 0 - A propos de cette formation"
   ]
  },
  {
   "cell_type": "markdown",
   "metadata": {},
   "source": [
    "### Votre formateur\n",
    "* Son nom\n",
    "* Ses activits\n",
    "* Ses domaines de compétence\n",
    "* Ses Qualifications et expérience pour ce cours"
   ]
  },
  {
   "cell_type": "markdown",
   "metadata": {},
   "source": [
    "### Votre formation - Présentation\n",
    "\n",
    "Description\n",
    "* Dans cette formation vous apprendrez la syntaxe du langage Python ainsi que la \n",
    "mise en œuvre de tous les concepts de la programmation fonctionnelle et orientée \n",
    "objet. Vous apprendrez également à utiliser les composants de la bibliothèque \n",
    "standard et à utiliser un IDE pour le développement et la mise au point de vos \n",
    "applications.\n",
    "\n",
    "Profil des stagiaires\n",
    "* Développeurs, architectes techniques, chefs de projet, administrateurs système.\n",
    "\n",
    "Connaissances préalables\n",
    "* Au minimum, avoir des connaissances en algorithmie ;\n",
    "* Idéalement, connaître un langage de programmation structuré (C, VB, Java…).\n",
    "\n",
    "Objectifs à atteindre\n",
    "* Comprendre et écrire des scripts en langage Python ;\n",
    "* Comprendre et mettre en œuvre les concepts de la programmation orientée objet \n",
    "\n",
    "avec le langage Python ;\n",
    "* Installer et utiliser des modules Python (administration système, …)."
   ]
  },
  {
   "cell_type": "markdown",
   "metadata": {},
   "source": [
    "### Votre formation - Programme\n",
    "\n",
    "* Présentation de Python\n",
    "* La mise en place d’une plateforme Python\n",
    "* Les bases du langage\n",
    "* Les fonctions\n",
    "* Les modules\n",
    "* Les classes\n",
    "* L’héritage\n",
    "* La gestion des exceptions \n",
    "* Les concepts avancés\n",
    "* La bibliothèque standard\n",
    "* La gestion de base données  "
   ]
  },
  {
   "cell_type": "markdown",
   "metadata": {},
   "source": [
    "### Logistique\n",
    "\n",
    "Horaires de la formation\n",
    "* 9h00-12h30\n",
    "* 14h00-17h30\n",
    "\n",
    "Pauses\n",
    "\n",
    "Merci d'éteindre vos téléphones portables"
   ]
  },
  {
   "cell_type": "markdown",
   "metadata": {},
   "source": [
    "## Module 1 - Présentation de Python"
   ]
  },
  {
   "cell_type": "markdown",
   "metadata": {},
   "source": [
    "..."
   ]
  },
  {
   "cell_type": "markdown",
   "metadata": {},
   "source": [
    "## Module 6 - Les classes"
   ]
  },
  {
   "cell_type": "markdown",
   "metadata": {},
   "source": [
    "### Les classes\n",
    "\n",
    "Une classe est une entité qui regroupe des attributs et des méthodes\n"
   ]
  },
  {
   "cell_type": "markdown",
   "metadata": {},
   "source": [
    "``` python\n",
    "class NomClasse : \n",
    "\n",
    "    #attributs \n",
    "\n",
    "    def __init__(self) :\n",
    "        self.__nomAttribut1 = valeurInitiale\n",
    "        self.__nomAttribut2 = valeurInitiale\n",
    "    \n",
    "    #méthodes\n",
    "    \n",
    "    def nom_fonction(self, paramètre1, paramètre2) :\n",
    "        # code de la fonction\n",
    "```"
   ]
  },
  {
   "cell_type": "markdown",
   "metadata": {},
   "source": [
    "### Exemple"
   ]
  },
  {
   "cell_type": "code",
   "execution_count": 8,
   "metadata": {},
   "outputs": [],
   "source": [
    "class Voiture :\n",
    "    def __init__(self ):\n",
    "        self.__kilometrage = 0\n",
    "        self.__carburant = 20\n",
    "        self.__immatriculation = \"ABC-ZE-44\" \n",
    "        self.__consommation = 5\n",
    "\n",
    "    def rouler ( self , distance : int ):\n",
    "        self.__kilometrage = self.__kilometrage + distance\n",
    "        self.__carburant = (self.__carburant) - (distance * self.__consommation / 100 )\n",
    "\n",
    "    #méthode qui va convertir un objet en chaine\n",
    "    def __str__ ( self):\n",
    "        return f\"{self.__immatriculation} {self.__kilometrage} \" \\\n",
    "        f\"{self.__carburant} {self.__consommation}\""
   ]
  },
  {
   "cell_type": "code",
   "execution_count": 9,
   "metadata": {},
   "outputs": [
    {
     "data": {
      "text/plain": [
       "'ABC-ZE-44 0 20 5'"
      ]
     },
     "execution_count": 9,
     "metadata": {},
     "output_type": "execute_result"
    }
   ],
   "source": [
    "ma_voiture = Voiture()\n",
    "ma_voiture.__str__()"
   ]
  },
  {
   "cell_type": "code",
   "execution_count": null,
   "metadata": {},
   "outputs": [],
   "source": []
  }
 ],
 "metadata": {
  "interpreter": {
   "hash": "3ecb328219053580996b3584c80f5022b9bec0184b2c87a98345795fe7fb8f0c"
  },
  "kernelspec": {
   "display_name": "Python 3.10.2 64-bit",
   "language": "python",
   "name": "python3"
  },
  "language_info": {
   "codemirror_mode": {
    "name": "ipython",
    "version": 3
   },
   "file_extension": ".py",
   "mimetype": "text/x-python",
   "name": "python",
   "nbconvert_exporter": "python",
   "pygments_lexer": "ipython3",
   "version": "3.10.2"
  },
  "orig_nbformat": 4
 },
 "nbformat": 4,
 "nbformat_minor": 2
}
