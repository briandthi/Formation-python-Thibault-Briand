{
 "cells": [
  {
   "cell_type": "code",
   "execution_count": 4,
   "metadata": {},
   "outputs": [
    {
     "name": "stdout",
     "output_type": "stream",
     "text": [
      "hello world!\n"
     ]
    }
   ],
   "source": [
    "print(\"hello world!\")"
   ]
  },
  {
   "cell_type": "markdown",
   "metadata": {},
   "source": [
    "## Type simple"
   ]
  },
  {
   "cell_type": "code",
   "execution_count": 5,
   "metadata": {},
   "outputs": [
    {
     "name": "stdout",
     "output_type": "stream",
     "text": [
      "5\n",
      "type: <class 'int'>\n"
     ]
    }
   ],
   "source": [
    "a = 5\n",
    "\n",
    "print(a)\n",
    "print(\"type:\",type(a))"
   ]
  },
  {
   "cell_type": "markdown",
   "metadata": {},
   "source": [
    "## Type élaboré"
   ]
  },
  {
   "cell_type": "code",
   "execution_count": 6,
   "metadata": {},
   "outputs": [
    {
     "name": "stdout",
     "output_type": "stream",
     "text": [
      "2022-01-24 16:11:05.270283\n",
      "type: <class 'datetime.datetime'>\n"
     ]
    }
   ],
   "source": [
    "import datetime\n",
    "\n",
    "today = datetime.datetime.today()\n",
    "\n",
    "print(today)\n",
    "print(\"type:\", type(today))"
   ]
  },
  {
   "cell_type": "markdown",
   "metadata": {},
   "source": [
    "## Changement de type avec eval"
   ]
  },
  {
   "cell_type": "code",
   "execution_count": 7,
   "metadata": {},
   "outputs": [
    {
     "name": "stdout",
     "output_type": "stream",
     "text": [
      "<class 'str'>\n",
      "<class 'int'>\n"
     ]
    }
   ],
   "source": [
    "a = \"5\"\n",
    "b = eval(a)\n",
    "\n",
    "print(type(a))\n",
    "print(type(b))"
   ]
  },
  {
   "cell_type": "markdown",
   "metadata": {},
   "source": [
    "## Formatage"
   ]
  },
  {
   "cell_type": "code",
   "execution_count": 8,
   "metadata": {},
   "outputs": [
    {
     "name": "stdout",
     "output_type": "stream",
     "text": [
      "Bienvenu sur Python 3\n"
     ]
    }
   ],
   "source": [
    "langage = \"Python\"\n",
    "version = 3\n",
    "print(\"Bienvenu sur %s %d\" % (langage, version))"
   ]
  },
  {
   "cell_type": "code",
   "execution_count": 9,
   "metadata": {},
   "outputs": [
    {
     "name": "stdout",
     "output_type": "stream",
     "text": [
      "Bienvenu sur Python 3\n"
     ]
    }
   ],
   "source": [
    " # ce formatage est plus simple\n",
    "version = 3\n",
    "str_formate = f\"Bienvenu sur Python {version}\"\n",
    "print(str_formate)"
   ]
  },
  {
   "cell_type": "markdown",
   "metadata": {},
   "source": [
    "## Ecrire en octet"
   ]
  },
  {
   "cell_type": "code",
   "execution_count": 10,
   "metadata": {},
   "outputs": [
    {
     "name": "stdout",
     "output_type": "stream",
     "text": [
      "b'Python' <class 'bytes'>\n",
      "Python <class 'str'>\n"
     ]
    }
   ],
   "source": [
    "langage = b\"Python\"\n",
    "print(langage, type(langage))\n",
    "\n",
    "str = langage.decode(\"utf8\")\n",
    "print(str, type(str))"
   ]
  },
  {
   "cell_type": "markdown",
   "metadata": {},
   "source": [
    "## Enum"
   ]
  },
  {
   "cell_type": "code",
   "execution_count": 11,
   "metadata": {},
   "outputs": [],
   "source": [
    "from enum import Enum\n",
    "\n",
    "class Carte(Enum):\n",
    "    Pique = 1\n",
    "    Coeur = 2\n",
    "    Carreau = 3\n",
    "    Treffle = 4"
   ]
  },
  {
   "cell_type": "code",
   "execution_count": 12,
   "metadata": {},
   "outputs": [
    {
     "name": "stdout",
     "output_type": "stream",
     "text": [
      "Carte.Carreau Carreau 3\n",
      "<enum 'Carte'>\n"
     ]
    }
   ],
   "source": [
    "carte = Carte.Carreau\n",
    "print( carte, carte.name, carte.value)\n",
    "print(type(carte))"
   ]
  },
  {
   "cell_type": "markdown",
   "metadata": {},
   "source": [
    "## Entrée et sorties"
   ]
  },
  {
   "cell_type": "markdown",
   "metadata": {},
   "source": [
    "* entrée"
   ]
  },
  {
   "cell_type": "code",
   "execution_count": 13,
   "metadata": {},
   "outputs": [],
   "source": [
    "# Ne fonctionne pas dans un notebook\n",
    "# langage = input(\"Quel est ton langage préféré: \")\n",
    "# print(langage)"
   ]
  },
  {
   "cell_type": "markdown",
   "metadata": {},
   "source": [
    "* Message d'erreur"
   ]
  },
  {
   "cell_type": "code",
   "execution_count": 14,
   "metadata": {},
   "outputs": [
    {
     "name": "stderr",
     "output_type": "stream",
     "text": [
      "Ceci est un erreur\n"
     ]
    }
   ],
   "source": [
    "import sys\n",
    "\n",
    "print( \"Ceci est un erreur\", file = sys.stderr)"
   ]
  },
  {
   "cell_type": "markdown",
   "metadata": {},
   "source": [
    "## Reprise de boucle"
   ]
  },
  {
   "cell_type": "code",
   "execution_count": 15,
   "metadata": {},
   "outputs": [
    {
     "name": "stdout",
     "output_type": "stream",
     "text": [
      "1,2,4,5,"
     ]
    }
   ],
   "source": [
    "my_list = [1,2,3,4,5]\n",
    "\n",
    "for nb in my_list:\n",
    "    if nb == 3:\n",
    "        continue\n",
    "    print(nb, end = ',')"
   ]
  },
  {
   "cell_type": "markdown",
   "metadata": {},
   "source": [
    "## Annotations"
   ]
  },
  {
   "cell_type": "code",
   "execution_count": 16,
   "metadata": {},
   "outputs": [
    {
     "data": {
      "text/plain": [
       "1"
      ]
     },
     "execution_count": 16,
     "metadata": {},
     "output_type": "execute_result"
    }
   ],
   "source": [
    "def minimum(val1:int, val2:int) ->int:\n",
    "    return min(val1, val2)\n",
    "\n",
    "minimum(1, 2)"
   ]
  },
  {
   "cell_type": "markdown",
   "metadata": {},
   "source": [
    "## Paramètres en nombre variable"
   ]
  },
  {
   "cell_type": "code",
   "execution_count": 17,
   "metadata": {},
   "outputs": [
    {
     "data": {
      "text/plain": [
       "6"
      ]
     },
     "execution_count": 17,
     "metadata": {},
     "output_type": "execute_result"
    }
   ],
   "source": [
    "def somme_numerique(*valeurs):\n",
    "    somme = 0\n",
    "    for val in valeurs:\n",
    "        somme += val\n",
    "    return somme\n",
    "\n",
    "somme_numerique(1,2,3)"
   ]
  },
  {
   "cell_type": "markdown",
   "metadata": {},
   "source": [
    "## Paramètres nommées en nombre variable"
   ]
  },
  {
   "cell_type": "code",
   "execution_count": 18,
   "metadata": {},
   "outputs": [
    {
     "data": {
      "text/plain": [
       "2.0"
      ]
     },
     "execution_count": 18,
     "metadata": {},
     "output_type": "execute_result"
    }
   ],
   "source": [
    "def moyenne(**valeurs):\n",
    "    somme = 0\n",
    "    for key, value in valeurs.items():\n",
    "        somme += value\n",
    "    \n",
    "    return somme/len(valeurs)\n",
    "\n",
    "moyenne(val1 = 1, val2 = 2, val3 = 3)"
   ]
  },
  {
   "cell_type": "markdown",
   "metadata": {},
   "source": [
    "## Package module\n",
    "#### Voir dossier\n",
    "test_pack\n",
    "* __init__.py\n",
    "* test_module.py"
   ]
  },
  {
   "cell_type": "code",
   "execution_count": 19,
   "metadata": {},
   "outputs": [
    {
     "name": "stdout",
     "output_type": "stream",
     "text": [
      "Je suis un module\n",
      "test_pack.test_module\n",
      "c:\\Users\\Administrateur\\Desktop\\Formation python Thibault Briand\\test_pack\\test_module.py\n"
     ]
    }
   ],
   "source": [
    "import test_pack.test_module as tm\n",
    "\n",
    "tm.test()\n",
    "print(tm.__name__)\n",
    "print(tm.__file__)"
   ]
  },
  {
   "cell_type": "markdown",
   "metadata": {},
   "source": [
    "## Class"
   ]
  },
  {
   "cell_type": "code",
   "execution_count": 51,
   "metadata": {},
   "outputs": [],
   "source": [
    "class Maison:\n",
    "    # attibut de la classe mais pas de l'instance\n",
    "    __nb_maisons = 0\n",
    "\n",
    "    # methode de la classe mais pas de l'instance\n",
    "    @classmethod\n",
    "    def get_nb_maisons(cls):\n",
    "        return cls.__nb_maisons\n",
    "\n",
    "    # attributs de l'instance\n",
    "    def __init__(self, nb_pieces: int, habitants: int, ville: str):\n",
    "        # attributs privés avec __mon_attribut\n",
    "        self._nb_piece = nb_pieces # 1 seul _ donc protected (visible par les classes enfants)\n",
    "        self.__ville = ville\n",
    "        # attribut publique\n",
    "        self.habitants = habitants\n",
    "        Maison.__nb_maisons += 1\n",
    "\n",
    "    ## GETTERS\n",
    "    @property\n",
    "    def nb_piece(self): \n",
    "        return self._nb_piece\n",
    "        \n",
    "    @property\n",
    "    def ville(self): \n",
    "        return self.__ville    \n",
    "\n",
    "    ## SETTERS\n",
    "    @nb_piece.setter\n",
    "    def nb_piece(self, piece):\n",
    "        self._nb_piece = piece\n",
    "    \n",
    "    @ville.setter\n",
    "    def ville(self, ville):\n",
    "        self.__ville = ville\n",
    "\n",
    "    ## METHODS\n",
    "    def description(self):\n",
    "        print(f\"Cette maison a {self._nb_piece} pièces, {self.habitants} habitants et est située à {self.__ville}\")\n"
   ]
  },
  {
   "cell_type": "markdown",
   "metadata": {},
   "source": [
    "### Test instance"
   ]
  },
  {
   "cell_type": "code",
   "execution_count": 52,
   "metadata": {},
   "outputs": [
    {
     "name": "stdout",
     "output_type": "stream",
     "text": [
      "Cette maison a 4 pièces, 6 habitants et est située à Chartres\n"
     ]
    }
   ],
   "source": [
    "ma_maison = Maison(4, 6, \"Pacé\")\n",
    "\n",
    "ma_maison.ville = \"Chartres\"\n",
    "\n",
    "ma_maison.description()"
   ]
  },
  {
   "cell_type": "code",
   "execution_count": 53,
   "metadata": {},
   "outputs": [
    {
     "name": "stdout",
     "output_type": "stream",
     "text": [
      "Cette maison a 4 pièces, 6 habitants et est située à Chartres\n",
      "La maison a 6 habitants.\n",
      "La maison est située à Chartres.\n"
     ]
    },
    {
     "ename": "AttributeError",
     "evalue": "'Maison' object has no attribute '__ville'",
     "output_type": "error",
     "traceback": [
      "\u001b[1;31m---------------------------------------------------------------------------\u001b[0m",
      "\u001b[1;31mAttributeError\u001b[0m                            Traceback (most recent call last)",
      "Input \u001b[1;32mIn [53]\u001b[0m, in \u001b[0;36m<module>\u001b[1;34m\u001b[0m\n\u001b[0;32m      2\u001b[0m \u001b[38;5;28mprint\u001b[39m(\u001b[38;5;124mf\u001b[39m\u001b[38;5;124m\"\u001b[39m\u001b[38;5;124mLa maison a \u001b[39m\u001b[38;5;132;01m{\u001b[39;00mma_maison\u001b[38;5;241m.\u001b[39mhabitants\u001b[38;5;132;01m}\u001b[39;00m\u001b[38;5;124m habitants.\u001b[39m\u001b[38;5;124m\"\u001b[39m)\n\u001b[0;32m      3\u001b[0m \u001b[38;5;28mprint\u001b[39m(\u001b[38;5;124mf\u001b[39m\u001b[38;5;124m\"\u001b[39m\u001b[38;5;124mLa maison est située à \u001b[39m\u001b[38;5;132;01m{\u001b[39;00mma_maison\u001b[38;5;241m.\u001b[39mville\u001b[38;5;132;01m}\u001b[39;00m\u001b[38;5;124m.\u001b[39m\u001b[38;5;124m\"\u001b[39m)\n\u001b[1;32m----> 4\u001b[0m \u001b[38;5;28mprint\u001b[39m(\u001b[38;5;124mf\u001b[39m\u001b[38;5;124m\"\u001b[39m\u001b[38;5;124mLa maison est située à \u001b[39m\u001b[38;5;132;01m{\u001b[39;00mma_maison\u001b[38;5;241m.\u001b[39m__ville\u001b[38;5;132;01m}\u001b[39;00m\u001b[38;5;124m.\u001b[39m\u001b[38;5;124m\"\u001b[39m)\n",
      "\u001b[1;31mAttributeError\u001b[0m: 'Maison' object has no attribute '__ville'"
     ]
    }
   ],
   "source": [
    "ma_maison.description()\n",
    "print(f\"La maison a {ma_maison.habitants} habitants.\")\n",
    "print(f\"La maison est située à {ma_maison.ville}.\")\n",
    "print(f\"La maison est située à {ma_maison.__ville}.\")"
   ]
  },
  {
   "cell_type": "markdown",
   "metadata": {},
   "source": [
    "### Test class"
   ]
  },
  {
   "cell_type": "code",
   "execution_count": 54,
   "metadata": {},
   "outputs": [
    {
     "name": "stdout",
     "output_type": "stream",
     "text": [
      "Nous avons créé 3 maisons\n"
     ]
    }
   ],
   "source": [
    "maison1 =  Maison(4, 6, \"Pacé\")\n",
    "maison2 =  Maison(2, 3, \"Rennes\")\n",
    "\n",
    "print(f\"Nous avons créé {Maison.get_nb_maisons()} maisons\")"
   ]
  },
  {
   "cell_type": "markdown",
   "metadata": {},
   "source": [
    "## Héritage"
   ]
  },
  {
   "cell_type": "code",
   "execution_count": 62,
   "metadata": {},
   "outputs": [],
   "source": [
    "class Appartement(Maison):\n",
    "    \n",
    "    def __init__(self, nb_piece: int, habitants: int, ville: str, etage: int):\n",
    "        super().__init__(nb_piece, habitants, ville)\n",
    "        self.__etage = etage\n",
    "\n",
    "    @property\n",
    "    def etage(self):\n",
    "        return self.__etage\n",
    "    \n",
    "    @etage.setter\n",
    "    def etage(self, etage: int):\n",
    "        self.__etage = etage\n",
    "\n",
    "    def description(self):\n",
    "        print(f\"Cet appartement a {self._nb_piece} pièces et est au {self.__etage} étage\") ## appel d'un attribut parent protected\n",
    "        print(f\"Cet appartement est a {self.__ville}\") ## appel d'un attibut parent private\n",
    "\n",
    "    "
   ]
  },
  {
   "cell_type": "code",
   "execution_count": 63,
   "metadata": {},
   "outputs": [],
   "source": [
    "mon_appartement = Appartement(2, 2, \"Pacé\", \"3\")"
   ]
  },
  {
   "cell_type": "code",
   "execution_count": 64,
   "metadata": {},
   "outputs": [
    {
     "name": "stdout",
     "output_type": "stream",
     "text": [
      "Cet appartement a 2 pièces et est au 3 étage\n"
     ]
    },
    {
     "ename": "AttributeError",
     "evalue": "'Appartement' object has no attribute '_Appartement__ville'",
     "output_type": "error",
     "traceback": [
      "\u001b[1;31m---------------------------------------------------------------------------\u001b[0m",
      "\u001b[1;31mAttributeError\u001b[0m                            Traceback (most recent call last)",
      "Input \u001b[1;32mIn [64]\u001b[0m, in \u001b[0;36m<module>\u001b[1;34m\u001b[0m\n\u001b[1;32m----> 1\u001b[0m \u001b[43mmon_appartement\u001b[49m\u001b[38;5;241;43m.\u001b[39;49m\u001b[43mdescription\u001b[49m\u001b[43m(\u001b[49m\u001b[43m)\u001b[49m\n",
      "Input \u001b[1;32mIn [62]\u001b[0m, in \u001b[0;36mAppartement.description\u001b[1;34m(self)\u001b[0m\n\u001b[0;32m     15\u001b[0m \u001b[38;5;28;01mdef\u001b[39;00m \u001b[38;5;21mdescription\u001b[39m(\u001b[38;5;28mself\u001b[39m):\n\u001b[0;32m     16\u001b[0m     \u001b[38;5;28mprint\u001b[39m(\u001b[38;5;124mf\u001b[39m\u001b[38;5;124m\"\u001b[39m\u001b[38;5;124mCet appartement a \u001b[39m\u001b[38;5;132;01m{\u001b[39;00m\u001b[38;5;28mself\u001b[39m\u001b[38;5;241m.\u001b[39m_nb_piece\u001b[38;5;132;01m}\u001b[39;00m\u001b[38;5;124m pièces et est au \u001b[39m\u001b[38;5;132;01m{\u001b[39;00m\u001b[38;5;28mself\u001b[39m\u001b[38;5;241m.\u001b[39m__etage\u001b[38;5;132;01m}\u001b[39;00m\u001b[38;5;124m étage\u001b[39m\u001b[38;5;124m\"\u001b[39m) \u001b[38;5;66;03m## appel d'un attribut parent protected\u001b[39;00m\n\u001b[1;32m---> 17\u001b[0m     \u001b[38;5;28mprint\u001b[39m(\u001b[38;5;124mf\u001b[39m\u001b[38;5;124m\"\u001b[39m\u001b[38;5;124mCet appartement est a \u001b[39m\u001b[38;5;132;01m{\u001b[39;00m\u001b[38;5;28mself\u001b[39m\u001b[38;5;241m.\u001b[39m__ville\u001b[38;5;132;01m}\u001b[39;00m\u001b[38;5;124m\"\u001b[39m)\n",
      "\u001b[1;31mAttributeError\u001b[0m: 'Appartement' object has no attribute '_Appartement__ville'"
     ]
    }
   ],
   "source": [
    "mon_appartement.description()"
   ]
  },
  {
   "cell_type": "markdown",
   "metadata": {},
   "source": [
    "## Polymorphisme"
   ]
  },
  {
   "cell_type": "code",
   "execution_count": null,
   "metadata": {},
   "outputs": [],
   "source": []
  }
 ],
 "metadata": {
  "interpreter": {
   "hash": "3ecb328219053580996b3584c80f5022b9bec0184b2c87a98345795fe7fb8f0c"
  },
  "kernelspec": {
   "display_name": "Python 3.10.2 64-bit",
   "language": "python",
   "name": "python3"
  },
  "language_info": {
   "codemirror_mode": {
    "name": "ipython",
    "version": 3
   },
   "file_extension": ".py",
   "mimetype": "text/x-python",
   "name": "python",
   "nbconvert_exporter": "python",
   "pygments_lexer": "ipython3",
   "version": "3.10.2"
  },
  "orig_nbformat": 4
 },
 "nbformat": 4,
 "nbformat_minor": 2
}
