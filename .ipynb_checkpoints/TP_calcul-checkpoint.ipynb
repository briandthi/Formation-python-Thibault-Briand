{
 "cells": [
  {
   "cell_type": "markdown",
   "metadata": {},
   "source": [
    "# TP calcul"
   ]
  },
  {
   "cell_type": "code",
   "execution_count": 1,
   "metadata": {},
   "outputs": [],
   "source": [
    "from random import randrange"
   ]
  },
  {
   "cell_type": "code",
   "execution_count": 66,
   "metadata": {},
   "outputs": [],
   "source": [
    "class Matrice():\n",
    "\n",
    "    def __init__(self, size):\n",
    "        self.__size = size\n",
    "        self.__matrice = [[randrange(0,2) for j in range(size)] for i in range(size) ]\n",
    "\n",
    "    @property\n",
    "    def size(self):\n",
    "        return self.__size\n",
    "\n",
    "    @property\n",
    "    def matrice(self):\n",
    "        return self.__matrice\n",
    "\n",
    "        \n",
    "    @matrice.setter\n",
    "    def matrice(self, matrice):\n",
    "        self.__matrice = matrice\n",
    "\n",
    "    def __str__(self):\n",
    "        for ligne in self.__matrice:\n",
    "            print(ligne)\n",
    "\n",
    "    def __add__(self, m2):\n",
    "        if self.size == m2.size:\n",
    "\n",
    "            size = self.size\n",
    "            res = Matrice(size)\n",
    "\n",
    "            for i in range(self.size):\n",
    "\n",
    "                for j in range(self.size):\n",
    "                    res.matrice[i][j] = self.matrice[i][j] + m2.matrice[i][j]\n",
    "            return res\n",
    "            \n",
    "        else: \n",
    "            print(\"Erreur: Les matrices ont des tailles différentes\")\n",
    "\n",
    "    def __mul__(self, m2):\n",
    "        if self.size == m2.size:\n",
    "\n",
    "            size = self.size\n",
    "            res = Matrice(size)\n",
    "            for i in range(size):\n",
    "                for j in range(size):\n",
    "                    res.matrice[i][j] = 0\n",
    "                    for k in range(size):\n",
    "                        res.matrice[i][j] += self.matrice[i][k]*m2.matrice[k][j]\n",
    "            return res\n",
    "        else: \n",
    "            print(\"Erreur: Les matrices ont des tailles différentes\")"
   ]
  },
  {
   "cell_type": "code",
   "execution_count": 68,
   "metadata": {},
   "outputs": [
    {
     "name": "stdout",
     "output_type": "stream",
     "text": [
      "m1\n",
      "[1, 2, 3]\n",
      "[4, 5, 6]\n",
      "[7, 8, 9]\n",
      "\n",
      "m2\n",
      "[1, 0, 1]\n",
      "[0, 1, 0]\n",
      "[1, 1, 1]\n",
      "\n",
      "m1+m2\n",
      "[2, 2, 4]\n",
      "[4, 6, 6]\n",
      "[8, 9, 10]\n",
      "\n",
      "m1*m2\n",
      "[4, 5, 4]\n",
      "[10, 11, 10]\n",
      "[16, 17, 16]\n"
     ]
    }
   ],
   "source": [
    "m1, m2 = Matrice(3), Matrice(3)\n",
    "\n",
    "m1.matrice = [[1,2,3], [4,5,6], [7,8,9]]\n",
    "print('m1')\n",
    "m1.__str__()\n",
    "\n",
    "m2.matrice = [[1,0,1], [0,1,0], [1,1,1]]\n",
    "print('\\nm2')\n",
    "m2.__str__()\n",
    "print('\\nm1+m2')\n",
    "res = m1+m2\n",
    "res.__str__()\n",
    "print('\\nm1*m2')\n",
    "\n",
    "res = m1*m2\n",
    "res.__str__()"
   ]
  },
  {
   "cell_type": "code",
   "execution_count": null,
   "metadata": {},
   "outputs": [],
   "source": []
  },
  {
   "cell_type": "code",
   "execution_count": 1,
   "metadata": {},
   "outputs": [
    {
     "name": "stdout",
     "output_type": "stream",
     "text": [
      "['c:\\\\Users\\\\Administrateur\\\\Desktop\\\\Formation python Thibault Briand', 'c:\\\\Users\\\\Administrateur\\\\.vscode\\\\extensions\\\\ms-toolsai.jupyter-2021.10.1101450599\\\\pythonFiles', 'c:\\\\Users\\\\Administrateur\\\\.vscode\\\\extensions\\\\ms-toolsai.jupyter-2021.10.1101450599\\\\pythonFiles\\\\lib\\\\python', 'C:\\\\Users\\\\Administrateur\\\\AppData\\\\Local\\\\Programs\\\\Python\\\\Python310\\\\python310.zip', 'C:\\\\Users\\\\Administrateur\\\\AppData\\\\Local\\\\Programs\\\\Python\\\\Python310\\\\DLLs', 'C:\\\\Users\\\\Administrateur\\\\AppData\\\\Local\\\\Programs\\\\Python\\\\Python310\\\\lib', 'C:\\\\Users\\\\Administrateur\\\\AppData\\\\Local\\\\Programs\\\\Python\\\\Python310', '', 'C:\\\\Users\\\\Administrateur\\\\AppData\\\\Roaming\\\\Python\\\\Python310\\\\site-packages', 'C:\\\\Users\\\\Administrateur\\\\AppData\\\\Roaming\\\\Python\\\\Python310\\\\site-packages\\\\win32', 'C:\\\\Users\\\\Administrateur\\\\AppData\\\\Roaming\\\\Python\\\\Python310\\\\site-packages\\\\win32\\\\lib', 'C:\\\\Users\\\\Administrateur\\\\AppData\\\\Roaming\\\\Python\\\\Python310\\\\site-packages\\\\Pythonwin', 'C:\\\\Users\\\\Administrateur\\\\AppData\\\\Local\\\\Programs\\\\Python\\\\Python310\\\\lib\\\\site-packages', 'C:\\\\Users\\\\Administrateur\\\\AppData\\\\Local\\\\Programs\\\\Python\\\\Python310\\\\lib\\\\site-packages\\\\win32', 'C:\\\\Users\\\\Administrateur\\\\AppData\\\\Local\\\\Programs\\\\Python\\\\Python310\\\\lib\\\\site-packages\\\\win32\\\\lib', 'C:\\\\Users\\\\Administrateur\\\\AppData\\\\Local\\\\Programs\\\\Python\\\\Python310\\\\lib\\\\site-packages\\\\Pythonwin']\n"
     ]
    }
   ],
   "source": [
    "import sys\n",
    "print(sys.path)"
   ]
  },
  {
   "cell_type": "code",
   "execution_count": null,
   "metadata": {},
   "outputs": [],
   "source": []
  }
 ],
 "metadata": {
  "interpreter": {
   "hash": "3ecb328219053580996b3584c80f5022b9bec0184b2c87a98345795fe7fb8f0c"
  },
  "kernelspec": {
   "display_name": "Python 3.10.2 64-bit",
   "language": "python",
   "name": "python3"
  },
  "language_info": {
   "codemirror_mode": {
    "name": "ipython",
    "version": 3
   },
   "file_extension": ".py",
   "mimetype": "text/x-python",
   "name": "python",
   "nbconvert_exporter": "python",
   "pygments_lexer": "ipython3",
   "version": "3.10.2"
  },
  "orig_nbformat": 4
 },
 "nbformat": 4,
 "nbformat_minor": 2
}
