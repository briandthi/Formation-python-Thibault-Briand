{
 "cells": [
  {
   "cell_type": "markdown",
   "metadata": {},
   "source": [
    "# Convert python to ORC (big data) files"
   ]
  },
  {
   "cell_type": "markdown",
   "metadata": {},
   "source": [
    "## Install packages"
   ]
  },
  {
   "cell_type": "code",
   "execution_count": 38,
   "metadata": {},
   "outputs": [
    {
     "name": "stdout",
     "output_type": "stream",
     "text": [
      "py -m pip install pyorc\n",
      "Requirement already satisfied: pyorc in c:\\\\users\\\\administrateur\\\\appdata\\\\local\\\\programs\\\\python\\\\python310\\\\lib\\\\site-packages (0.5.0)\n",
      "Requirement already satisfied: tzdata>=2020.5 in c:\\\\users\\\\administrateur\\\\appdata\\\\local\\\\programs\\\\python\\\\python310\\\\lib\\\\site-packages (from pyorc) (2021.5)\n",
      "\n",
      "py -m pip install pyorc==0.5.0\n",
      "Requirement already satisfied: pyorc==0.5.0 in c:\\\\users\\\\administrateur\\\\appdata\\\\local\\\\programs\\\\python\\\\python310\\\\lib\\\\site-packages (0.5.0)\n",
      "Requirement already satisfied: tzdata>=2020.5 in c:\\\\users\\\\administrateur\\\\appdata\\\\local\\\\programs\\\\python\\\\python310\\\\lib\\\\site-packages (from pyorc==0.5.0) (2021.5)\n",
      "\n"
     ]
    }
   ],
   "source": [
    "import subprocess\n",
    "\n",
    "# fonction utilitaire pour exécuter puis lire une console command\n",
    "## TO DO, à mettre dans un fichier utils.py\n",
    "def run_and_print_consol_command(command):\n",
    "\n",
    "    byte_output = subprocess.run(command, stdout=subprocess.PIPE).stdout\n",
    "\n",
    "    str_output = str(byte_output)\n",
    "\n",
    "    clean_output = str_output[2:-1].replace('\\\\r', '').replace('\\\\n', '\\n')\n",
    "\n",
    "    print(clean_output)\n",
    "\n",
    "def install_package(package_name: str, version: str = None):\n",
    "    if version :\n",
    "        command = 'py -m pip install ' + package_name + \"==\" + version\n",
    "        print(command)\n",
    "        run_and_print_consol_command(command)\n",
    "    else :\n",
    "        command = 'py -m pip install ' + package_name\n",
    "        print(command)\n",
    "        run_and_print_consol_command(command)\n",
    "\n",
    "# install_package('pyorc')\n",
    "# install_package('pyorc', '0.5.0')\n",
    "# run_and_print_consol_command('pip freeze')\n",
    "# run_and_print_consol_command('py -m pip install pyorc')"
   ]
  },
  {
   "cell_type": "markdown",
   "metadata": {},
   "source": [
    "## Imports"
   ]
  },
  {
   "cell_type": "code",
   "execution_count": 4,
   "metadata": {},
   "outputs": [],
   "source": [
    "import tkinter as tk\n",
    "import tkinter.filedialog as fs\n",
    "\n",
    "import pandas as pd\n",
    "\n",
    "import pyorc\n",
    "\n",
    "from os import listdir, mkdir"
   ]
  },
  {
   "cell_type": "markdown",
   "metadata": {},
   "source": [
    "## IHM"
   ]
  },
  {
   "cell_type": "code",
   "execution_count": null,
   "metadata": {},
   "outputs": [],
   "source": [
    "class App():\n",
    "\n",
    "    def __init__(self):\n",
    "        self.__app = tk.Tk()\n",
    "        self.app.title(\"Python for big data | csv to orc\")\n",
    "        self.app.geometry(\"400x200\")\n",
    "\n",
    "    @property\n",
    "    def app(self):\n",
    "        return self.__app\n",
    "\n",
    "    def run(self):\n",
    "        pass"
   ]
  }
 ],
 "metadata": {
  "interpreter": {
   "hash": "3ecb328219053580996b3584c80f5022b9bec0184b2c87a98345795fe7fb8f0c"
  },
  "kernelspec": {
   "display_name": "Python 3.10.2 64-bit",
   "language": "python",
   "name": "python3"
  },
  "language_info": {
   "codemirror_mode": {
    "name": "ipython",
    "version": 3
   },
   "file_extension": ".py",
   "mimetype": "text/x-python",
   "name": "python",
   "nbconvert_exporter": "python",
   "pygments_lexer": "ipython3",
   "version": "3.10.2"
  },
  "orig_nbformat": 4
 },
 "nbformat": 4,
 "nbformat_minor": 2
}
