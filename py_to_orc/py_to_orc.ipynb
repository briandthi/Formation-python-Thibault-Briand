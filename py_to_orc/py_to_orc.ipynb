{
 "cells": [
  {
   "cell_type": "markdown",
   "metadata": {},
   "source": [
    "# Convert python to ORC (big data) files"
   ]
  },
  {
   "cell_type": "markdown",
   "metadata": {},
   "source": [
    "## Install packages"
   ]
  },
  {
   "cell_type": "code",
   "execution_count": 1,
   "metadata": {},
   "outputs": [],
   "source": [
    "import subprocess\n",
    "\n",
    "########## TO DO, à mettre dans un fichier utils.py ##########\n",
    "\n",
    "# fonction utilitaire pour exécuter puis lire une console command\n",
    "def run_and_print_consol_command(command):\n",
    "\n",
    "    byte_output = subprocess.run(command, stdout=subprocess.PIPE).stdout\n",
    "\n",
    "    str_output = str(byte_output)\n",
    "\n",
    "    clean_output = str_output[2:-1].replace('\\\\r', '').replace('\\\\n', '\\n')\n",
    "\n",
    "    print(clean_output)\n",
    "\n",
    "def install_package(package_name: str, version: str = None):\n",
    "    if version :\n",
    "        command = 'py -m pip install ' + package_name + \"==\" + version\n",
    "        run_and_print_consol_command(command)\n",
    "        \n",
    "    else :\n",
    "        command = 'py -m pip install ' + package_name\n",
    "        run_and_print_consol_command(command)"
   ]
  },
  {
   "cell_type": "code",
   "execution_count": 2,
   "metadata": {},
   "outputs": [
    {
     "name": "stdout",
     "output_type": "stream",
     "text": [
      "Requirement already satisfied: pandas==1.4.0 in c:\\\\users\\\\administrateur\\\\appdata\\oaming\\\\python\\\\python310\\\\site-packages (1.4.0)\n",
      "Requirement already satisfied: tk==0.1.0 in c:\\\\users\\\\administrateur\\\\appdata\\oaming\\\\python\\\\python310\\\\site-packages (0.1.0)\n",
      "Requirement already satisfied: pyorc==0.5.0 in c:\\\\users\\\\administrateur\\\\appdata\\\\local\\\\programs\\\\python\\\\python310\\\\lib\\\\site-packages (0.5.0)\n",
      "Requirement already satisfied: python-dateutil>=2.8.1 in c:\\\\users\\\\administrateur\\\\appdata\\oaming\\\\python\\\\python310\\\\site-packages (from pandas==1.4.0) (2.8.2)\n",
      "Requirement already satisfied: pytz>=2020.1 in c:\\\\users\\\\administrateur\\\\appdata\\oaming\\\\python\\\\python310\\\\site-packages (from pandas==1.4.0) (2021.3)\n",
      "Requirement already satisfied: numpy>=1.21.0 in c:\\\\users\\\\administrateur\\\\appdata\\oaming\\\\python\\\\python310\\\\site-packages (from pandas==1.4.0) (1.22.1)\n",
      "Requirement already satisfied: tzdata>=2020.5 in c:\\\\users\\\\administrateur\\\\appdata\\\\local\\\\programs\\\\python\\\\python310\\\\lib\\\\site-packages (from pyorc==0.5.0) (2021.5)\n",
      "Requirement already satisfied: six>=1.5 in c:\\\\users\\\\administrateur\\\\appdata\\oaming\\\\python\\\\python310\\\\site-packages (from python-dateutil>=2.8.1->pandas==1.4.0) (1.16.0)\n",
      "\n"
     ]
    }
   ],
   "source": [
    "## Tests\n",
    "\n",
    "# run_and_print_consol_command('pip freeze')\n",
    "install_package('pandas==1.4.0 tk==0.1.0 pyorc==0.5.0')\n"
   ]
  },
  {
   "cell_type": "markdown",
   "metadata": {},
   "source": [
    "## Imports"
   ]
  },
  {
   "cell_type": "code",
   "execution_count": 1,
   "metadata": {},
   "outputs": [],
   "source": [
    "import tkinter as tk\n",
    "import tkinter.filedialog as fd\n",
    "\n",
    "import pandas as pd\n",
    "\n",
    "import pyorc\n",
    "\n",
    "from os import listdir, mkdir\n",
    "import shutil\n",
    "\n",
    "from datetime import datetime"
   ]
  },
  {
   "cell_type": "markdown",
   "metadata": {},
   "source": [
    "## Back end pyorc"
   ]
  },
  {
   "cell_type": "code",
   "execution_count": 4,
   "metadata": {},
   "outputs": [
    {
     "name": "stdout",
     "output_type": "stream",
     "text": [
      "WARNING:     orc folder is already existing\n",
      "WARNING:     it will be removed and recreated\n",
      "INFO:        Files to create: Prenoms.csv\n",
      "########## Creation of Prenoms.csv.orc ##############\n",
      "PATH:        C:/Users/Administrateur/Desktop/Formation python Thibault Briand/py_to_orc/Prenoms.csv\n",
      "SCHEMA:      struct<01_prenom:string,02_genre:string,03_langage:string,04_frequence:string>\n",
      "INFO:       OK\n",
      "INFO:       Time to write: 0:00:01.057996 s\n"
     ]
    }
   ],
   "source": [
    "class CsvToOrc():\n",
    "\n",
    "    def __init__(self):\n",
    "        pass\n",
    "    \n",
    "    def create_orc_folder(self, csv_folder):\n",
    "        curr_dir = csv_folder.split('/')[-1]\n",
    "        root_path = csv_folder.replace(f'/{curr_dir}','')\n",
    "        try:\n",
    "            mkdir(f'{root_path}/orc')\n",
    "\n",
    "        except:\n",
    "            print('WARNING:     orc folder is already existing')\n",
    "            print('WARNING:     it will be removed and recreated')\n",
    "            shutil.rmtree(f'{root_path}/orc')\n",
    "            mkdir(f'{root_path}/orc')\n",
    "\n",
    "        return f'{root_path}/orc/'\n",
    "\n",
    "\n",
    "\n",
    "    def to_ocr(self, folder_path: str):\n",
    "        \n",
    "        orc_folder = self.create_orc_folder(folder_path)\n",
    "\n",
    "        filesnames = listdir(folder_path)\n",
    "        files = [f_name for f_name in filesnames if f_name.endswith('.csv')]\n",
    "\n",
    "        print(f\"INFO:        Files to create: {' | '.join(files)}\")\n",
    "\n",
    "        for file in files:\n",
    "\n",
    "            print(f\"########## Creation of {file}.orc ##############\")\n",
    "\n",
    "            file_path = f\"{folder_path}/{file}\"\n",
    "            print(f\"PATH:        {file_path}\")\n",
    "            \n",
    "            try:\n",
    "                df = pd.read_csv(file_path, delimiter = ';')\n",
    "            except:\n",
    "                print('Error:   CSV file encoding is not utf8')\n",
    "                # df = pd.read_csv(file_path, delimiter = ';', encoding='iso-8859-1')\n",
    "\n",
    "            df = df.astype(str)\n",
    "\n",
    "            columns = df.columns\n",
    "            col_schema = ','.join([f\"{i}:string\" for i in columns])\n",
    "\n",
    "            schema =f\"struct<{col_schema}>\"\n",
    "            print(f'SCHEMA:      {schema}')\n",
    "\n",
    "            output_path = f\"{orc_folder}{file}.orc\"\n",
    "            output = open(output_path, 'wb')\n",
    "            writer = pyorc.Writer(output, schema)\n",
    "            try:\n",
    "                t1 = datetime.now()\n",
    "\n",
    "                for i in range(len(df)):\n",
    "                    writer.write(tuple(df.iloc[i].values.tolist()))\n",
    "                writer.close()\n",
    "                t2 = datetime.now()\n",
    "                print(f'INFO:       OK')\n",
    "                print(f'INFO:       Time to write: {t2 - t1} s')\n",
    "            except: \n",
    "                print(f'ERROR:      KO, could not create {output_path}')\n",
    "\n",
    "convertor = CsvToOrc()\n",
    "\n",
    "convertor.to_ocr('C:/Users/Administrateur/Desktop/Formation python Thibault Briand/py_to_orc')"
   ]
  },
  {
   "cell_type": "markdown",
   "metadata": {},
   "source": [
    "## Front end tkinter"
   ]
  },
  {
   "cell_type": "code",
   "execution_count": 5,
   "metadata": {},
   "outputs": [],
   "source": [
    "class CsvToOrcIhm():\n",
    "\n",
    "    def __init__(self):\n",
    "        self.__app = tk.Tk()\n",
    "        self.app.title(\"Python for big data | csv to orc\")\n",
    "        # self.app.geometry(\"600x400\")\n",
    "        self.__selected_folder = ''\n",
    "        self.__modules_ihm = self.modules_ihm()\n",
    "        self.__convertor = CsvToOrc()\n",
    "        self.pack()\n",
    "\n",
    "    @property\n",
    "    def app(self):\n",
    "        return self.__app\n",
    "        \n",
    "\n",
    "    def modules_ihm(self):\n",
    "\n",
    "        modules_ihm = {}\n",
    "\n",
    "        modules_ihm['info_lb'] = tk.Label(self.app, text= 'Select the directory where CSV files were created by absinthe.')\n",
    "        modules_ihm['output_label'] = tk.Label(self.app, text= 'output')\n",
    "        modules_ihm['dir_select_bt'] = tk.Button(self.app, text = 'Select Directory', command=self.folder_select) # TO COMPLETE command\n",
    "        modules_ihm['exe_bt'] = tk.Button(self.app, text = 'Convert', command=self.start_convertor) # TO COMPLETE command\n",
    "        modules_ihm['file_list'] = tk.Listbox(self.app)\n",
    "        modules_ihm['selected_folder'] = tk.StringVar()\n",
    "\n",
    "        return modules_ihm\n",
    "\n",
    "    def pack(self):\n",
    "\n",
    "        self.__modules_ihm['info_lb'].pack(padx=5,pady=5)\n",
    "        self.__modules_ihm['dir_select_bt'].pack(padx=5,pady=5)\n",
    "        self.__modules_ihm['file_list'].pack(padx=5,pady=5)\n",
    "        self.__modules_ihm['exe_bt'].pack(padx=5,pady=5)\n",
    "        self.__modules_ihm['output_label'].pack(padx=5,pady=5)\n",
    "\n",
    "    def update_list(self):\n",
    "        filesnames = listdir(self.__selected_folder)\n",
    "        files = [f_name for f_name in filesnames if f_name.endswith('.csv')]\n",
    "        self.__modules_ihm['file_list'].insert(0, files)\n",
    "\n",
    "    def folder_select(self):\n",
    "        self.__selected_folder = fd.askdirectory()\n",
    "        self.__modules_ihm['selected_folder'].set(self.__selected_folder)\n",
    "        self.update_list()\n",
    "\n",
    "    def start_convertor(self):\n",
    "        self.__convertor.to_ocr(self.__selected_folder)\n",
    "\n",
    "    def run(self):\n",
    "        self.app.mainloop()\n"
   ]
  },
  {
   "cell_type": "code",
   "execution_count": 6,
   "metadata": {},
   "outputs": [
    {
     "name": "stdout",
     "output_type": "stream",
     "text": [
      "WARNING:     orc folder is already existing\n",
      "WARNING:     it will be removed and recreated\n",
      "INFO:        Files to create: Prenoms.csv\n",
      "########## Creation of Prenoms.csv.orc ##############\n",
      "PATH:        C:/Users/Administrateur/Desktop/Formation python Thibault Briand/py_to_orc/Prenoms.csv\n",
      "SCHEMA:      struct<01_prenom:string,02_genre:string,03_langage:string,04_frequence:string>\n",
      "INFO:       OK\n",
      "INFO:       Time to write: 0:00:01.056998 s\n"
     ]
    }
   ],
   "source": [
    "CsvToOrcIhm().run()"
   ]
  },
  {
   "cell_type": "code",
   "execution_count": null,
   "metadata": {},
   "outputs": [],
   "source": []
  },
  {
   "cell_type": "code",
   "execution_count": null,
   "metadata": {},
   "outputs": [],
   "source": []
  }
 ],
 "metadata": {
  "interpreter": {
   "hash": "3ecb328219053580996b3584c80f5022b9bec0184b2c87a98345795fe7fb8f0c"
  },
  "kernelspec": {
   "display_name": "Python 3.10.2 64-bit",
   "language": "python",
   "name": "python3"
  },
  "language_info": {
   "codemirror_mode": {
    "name": "ipython",
    "version": 3
   },
   "file_extension": ".py",
   "mimetype": "text/x-python",
   "name": "python",
   "nbconvert_exporter": "python",
   "pygments_lexer": "ipython3",
   "version": "3.10.2"
  },
  "orig_nbformat": 4
 },
 "nbformat": 4,
 "nbformat_minor": 2
}
