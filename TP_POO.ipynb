{
 "cells": [
  {
   "cell_type": "markdown",
   "metadata": {},
   "source": [
    "# TP POO: pythonTown"
   ]
  },
  {
   "cell_type": "markdown",
   "metadata": {},
   "source": [
    "## Partie 1: pythonTown"
   ]
  },
  {
   "cell_type": "markdown",
   "metadata": {},
   "source": [
    "### Humain"
   ]
  },
  {
   "cell_type": "code",
   "execution_count": 19,
   "metadata": {},
   "outputs": [],
   "source": [
    "class Humain():\n",
    "\n",
    "    # Attributs\n",
    "    def __init__(self, nom: str, boisson: str = \"eau\"):\n",
    "        self.__nom = nom\n",
    "        self.__boisson = boisson\n",
    "\n",
    "    # Methodes\n",
    "    def parler(self, text):\n",
    "        print(f\"({self.nom}) - {text}\")\n",
    "\n",
    "    def se_presenter(self):\n",
    "        return f\"Bonjour, je suis {self.nom} et j'aime le {self.boisson}.\"\n",
    "\n",
    "    def boire(self, boisson: str):\n",
    "        # TO DO\n",
    "        self.parler(f\"Ah! un bon verre de {boisson} ! MIAMM !\")\n",
    "    @property\n",
    "    def nom(self):\n",
    "        return self.__nom\n",
    "\n",
    "    @property\n",
    "    def boisson(self):\n",
    "        return self.__boisson"
   ]
  },
  {
   "cell_type": "code",
   "execution_count": 20,
   "metadata": {},
   "outputs": [
    {
     "name": "stdout",
     "output_type": "stream",
     "text": [
      "Boujour Fred présente toi.\n",
      "(Fred) - Bonjour, je suis Fred et j'aime le Bière.\n",
      "Buvons un verre de Bière alors!\n",
      "(Fred) - Ah! un bon verre de Bière ! MIAMM !\n"
     ]
    }
   ],
   "source": [
    "fred = Humain(\"Fred\", \"Bière\")\n",
    "\n",
    "# L'histoire\n",
    "print(f\"Boujour {fred.nom} présente toi.\")\n",
    "fred.parler(fred.se_presenter())\n",
    "print(f\"Buvons un verre de {fred.boisson} alors!\")\n",
    "fred.boire(fred.boisson)"
   ]
  },
  {
   "cell_type": "markdown",
   "metadata": {},
   "source": [
    "## Partie 2: pythonTown: héritage"
   ]
  },
  {
   "cell_type": "code",
   "execution_count": 21,
   "metadata": {},
   "outputs": [],
   "source": [
    "from enum import Enum"
   ]
  },
  {
   "cell_type": "markdown",
   "metadata": {},
   "source": [
    "### Cowboy / Dame / Brigand"
   ]
  },
  {
   "cell_type": "code",
   "execution_count": 22,
   "metadata": {},
   "outputs": [],
   "source": [
    "class Etat(Enum):\n",
    "    libre = \"libre\"\n",
    "    captive = \"captive\""
   ]
  },
  {
   "cell_type": "code",
   "execution_count": 25,
   "metadata": {},
   "outputs": [],
   "source": [
    "class Cowboy(Humain):\n",
    "\n",
    "    def __init__(self, nom: str, adjectif: str =\"vaillant\", boisson: str = \"eau\"):\n",
    "        super().__init__(nom, boisson)\n",
    "        self.__popularite = 0\n",
    "        self.__adjectif = adjectif\n",
    "\n",
    "    def liberer(self, dame):\n",
    "        self.parler(f\"{dame.nom}, vous êtes libre maintenant.\")\n",
    "        dame.se_faire_liberer(self)\n",
    "        self.__popularite += 1\n",
    "\n",
    "    def tirer(self, brigand):\n",
    "        print(f\"Le {self.__adjectif} {self.nom} tire sur {brigand.nom}. PAN !\")\n",
    "        self.parler(f\"Prend ça, rascal !\")\n",
    "\n",
    "    @property\n",
    "    def adjectif(self):\n",
    "        return self.__adjectif\n",
    "\n",
    "    @property\n",
    "    def popularite(self):\n",
    "        return self.__popularite\n",
    "\n",
    "    def se_presenter(self):\n",
    "        self.parler(f\"{super().se_presenter()} On dit de moi que je suis {self.adjectif} et ma popularité est actuellement de {self.popularite}/10.\")\n",
    "\n",
    "\n",
    "class Dame(Humain):\n",
    "\n",
    "    def __init__(self, couleur_robe: str, nom: str, boisson: str = \"champagne\"):\n",
    "        super().__init__(nom, boisson)\n",
    "        self.__couleur_robe = couleur_robe\n",
    "        self.__etat = Etat.libre\n",
    "        self.__ravisseur = None\n",
    "        self.__sauveur = None\n",
    "\n",
    "    def se_faire_kidnapper(self, ravisseur):\n",
    "        if self.__etat == Etat.libre:\n",
    "            self.__ravisseur = ravisseur\n",
    "            self.__etat = Etat.captive\n",
    "            self.parler(f\"Je me fait enlever par {self.__ravisseur.nom}\")\n",
    "        else:\n",
    "            if ravisseur.nom == self.__ravisseur.nom:\n",
    "                self.parler(f\"Ma parole, tu es idiot {self.__ravisseur.nom}\")\n",
    "            else:\n",
    "                self.parler(f\"Je suis déjà retenue par {self.__ravisseur.nom}\")\n",
    "\n",
    "    def se_faire_liberer(self, sauveur: Cowboy):\n",
    "        if self.__etat == Etat.captive:\n",
    "            self.__sauveur = sauveur\n",
    "            self.__etat = Etat.libre\n",
    "        else:\n",
    "            self.parler(f\"Je suis déjà libre, que fais tu {sauveur.nom}?\")\n",
    "            \n",
    "    @property\n",
    "    def couleur_robe(self):\n",
    "        return self.__couleur_robe\n",
    "\n",
    "    @couleur_robe.setter\n",
    "    def couleur_robe(self, new_couleur: str):\n",
    "        self.__couleur_robe = new_couleur\n",
    "        self.parler(f\"Regardez ma nouvelle robe {self.__couleur_robe} !\")\n",
    "    \n",
    "    # Surcharge\n",
    "    @property\n",
    "    def nom(self):\n",
    "        return f\"Miss {super().nom}\"\n",
    "\n",
    "    def se_presenter(self):\n",
    "        self.parler(f\"{super().se_presenter()} J'ai une belle robe {self.couleur_robe}.\")\n",
    "\n",
    "\n",
    "class Brigand(Humain):\n",
    "\n",
    "    def __init__(self, nom: str, look: str = \"méchant\", prime: int = 100, boisson: str = \"vignasse\"):\n",
    "        super().__init__(nom, boisson)\n",
    "        self.__look = look\n",
    "        self.__nb_enlevements = 0\n",
    "        self.__prime = prime\n",
    "        self.__prison = False\n",
    "\n",
    "    def kidnapper(self, dame: Dame):\n",
    "        self.__nb_enlevements += 1\n",
    "        self.parler(f\"Ah ah ! {dame.nom}, tu es mienne désormais !\")\n",
    "        dame.se_faire_kidnapper(self)\n",
    "\n",
    "    def valeur_prime(self):\n",
    "        return self.__prime\n",
    "\n",
    "    def emprisonne(self, sherif: Cowboy): \n",
    "        self.__prison = True\n",
    "        self.parler(f\"Damned, je suis fait ! {sherif.nom}, tu m’as eu !\")\n",
    "\n",
    "    @property\n",
    "    def prime(self):\n",
    "        return self.__prime\n",
    "        \n",
    "    @property\n",
    "    def prison(self):\n",
    "        return self.__prison\n",
    "\n",
    "    # Surcharge\n",
    "    @property\n",
    "    def nom(self):\n",
    "        return f\"{super().nom} le {self.__look}\"\n",
    "\n",
    "    \n",
    "    def se_presenter(self):\n",
    "        self.parler(f\"{super().se_presenter()} J'ai une une prime de {self.prime} $ sur la tête.\")"
   ]
  },
  {
   "cell_type": "code",
   "execution_count": 26,
   "metadata": {},
   "outputs": [
    {
     "name": "stdout",
     "output_type": "stream",
     "text": [
      "(Fred) - Bonjour, je suis Fred et j'aime le bière. On dit de moi que je suis courageux et ma popularité est actuellement de 0/10.\n",
      "(Miss Anne) - Bonjour, je suis Miss Anne et j'aime le ricard. J'ai une belle robe rouge.\n",
      "(Jack le fou) - Bonjour, je suis Jack le fou et j'aime le vin. J'ai une une prime de 150 $ sur la tête.\n"
     ]
    }
   ],
   "source": [
    "Fred = Cowboy(\"Fred\", \"courageux\", \"bière\")\n",
    "Fred.se_presenter()\n",
    "\n",
    "Anne = Dame(\"rouge\", \"Anne\", \"ricard\")\n",
    "Anne.se_presenter()\n",
    "\n",
    "Jack = Brigand(\"Jack\", \"fou\", 150, \"vin\")\n",
    "Jack.se_presenter()"
   ]
  },
  {
   "cell_type": "code",
   "execution_count": 27,
   "metadata": {},
   "outputs": [
    {
     "name": "stdout",
     "output_type": "stream",
     "text": [
      "(Miss Anne) - Regardez ma nouvelle robe bleu !\n",
      "(Fred) - Miss Anne, vous êtes libre maintenant.\n",
      "(Miss Anne) - Je suis déjà libre, que fais tu Fred?\n",
      "(Jack le fou) - Ah ah ! Miss Anne, tu es mienne désormais !\n",
      "(Miss Anne) - Je me fait enlever par Jack le fou\n",
      "(Jack le fou) - Ah ah ! Miss Anne, tu es mienne désormais !\n",
      "(Miss Anne) - Ma parole, tu es idiot Jack le fou\n",
      "Le courageux Fred tire sur Jack le fou. PAN !\n",
      "(Fred) - Prend ça, rascal !\n",
      "(Fred) - Miss Anne, vous êtes libre maintenant.\n",
      "(Jack le fou) - Damned, je suis fait ! Fred, tu m’as eu !\n"
     ]
    }
   ],
   "source": [
    "## Première histoire\n",
    "Anne.couleur_robe = \"bleu\"\n",
    "\n",
    "Fred.liberer(Anne)\n",
    "\n",
    "Jack.kidnapper(Anne)\n",
    "Jack.kidnapper(Anne)\n",
    "\n",
    "Fred.tirer(Jack)\n",
    "Fred.liberer(Anne)\n",
    "\n",
    "Jack.emprisonne(Fred)\n",
    "\n"
   ]
  },
  {
   "cell_type": "markdown",
   "metadata": {},
   "source": [
    "### Barman"
   ]
  },
  {
   "cell_type": "code",
   "execution_count": 28,
   "metadata": {},
   "outputs": [],
   "source": [
    "class Barman(Humain):\n",
    "\n",
    "    def __init__(self, nom: str, bar: str = \"\", boisson: str = \"vin\"):\n",
    "        super().__init__(nom, boisson)\n",
    "        if bar ==\"\":\n",
    "            self.__bar = f'\"Chez {self.nom}\"'\n",
    "        else:\n",
    "            self.__bar = bar\n",
    "\n",
    "    @property\n",
    "    def bar(self):\n",
    "        return self.__bar\n",
    "\n",
    "    def servir(self, client: Humain):\n",
    "        client.boire(client.boisson)\n",
    "\n",
    "    def parler(self, text):\n",
    "        super().parler(text + \" Coco !\")\n",
    "    def se_presenter(self):\n",
    "        self.parler(f\"{super().se_presenter()} Je suis le patron de {self.bar}\")"
   ]
  },
  {
   "cell_type": "code",
   "execution_count": 29,
   "metadata": {},
   "outputs": [
    {
     "name": "stdout",
     "output_type": "stream",
     "text": [
      "(Joe) - Bonjour, je suis Joe et j'aime le vin. Je suis le patron de \"Chez Joe\" Coco !\n",
      "(Fred) - Ah! un bon verre de bière ! MIAMM !\n"
     ]
    }
   ],
   "source": [
    "Joe = Barman(\"Joe\")\n",
    "Joe.se_presenter()\n",
    "\n",
    "Joe.servir(Fred)"
   ]
  },
  {
   "cell_type": "markdown",
   "metadata": {},
   "source": [
    "### Shérif"
   ]
  },
  {
   "cell_type": "code",
   "execution_count": 30,
   "metadata": {},
   "outputs": [],
   "source": [
    "class Sherif(Cowboy):\n",
    "\n",
    "    def __init__(self, nom: str, adjectif: str =\"vaillant\", boisson: str = \"eau\"):\n",
    "        super().__init__(nom, adjectif, boisson)\n",
    "        self.__nb_brigand = 0\n",
    "\n",
    "    @property\n",
    "    def nb_brigand(self):\n",
    "        return self.__nb_brigand\n",
    "\n",
    "    def coffrer(self, brigand: Brigand):\n",
    "        if brigand.prison:\n",
    "            print(f'\"{brigand.nom} est déjà en prison\"')\n",
    "        else:\n",
    "            self.parler(f\"Au nom de la loi {brigand.nom}, je vous arrête\")\n",
    "            brigand.emprisonne(self)\n",
    "\n",
    "    def rechercher(self, brigand: Brigand):\n",
    "        print(f\"OYEZ OYEZ BRAVE GENS !! {brigand.prime} $ à qui arrêtera {brigand.nom} mort ou vif !\")\n",
    "\n",
    "    @property\n",
    "    def nom(self):\n",
    "        return f\"Shérif {super().nom}\"\n",
    "\n",
    "    \n",
    "    def se_presenter(self):\n",
    "        self.parler(f\"Bonjour, je suis le {self.nom}. J'ai arrêté au moins {self.nb_brigand} malfrats dans ce conté.\")"
   ]
  },
  {
   "cell_type": "code",
   "execution_count": 31,
   "metadata": {},
   "outputs": [
    {
     "name": "stdout",
     "output_type": "stream",
     "text": [
      "(Shérif Michael) - Bonjour, je suis le Shérif Michael. J'ai arrêté au moins 0 malfrats dans ce conté.\n"
     ]
    }
   ],
   "source": [
    "Michael = Sherif(\"Michael\")\n",
    "Michael.se_presenter()"
   ]
  },
  {
   "cell_type": "code",
   "execution_count": 32,
   "metadata": {},
   "outputs": [
    {
     "name": "stdout",
     "output_type": "stream",
     "text": [
      "(Miss Anne) - Regardez ma nouvelle robe bleu !\n",
      "(Fred) - Ah! un bon verre de bière ! MIAMM !\n",
      "(Fred) - Miss Anne, vous êtes libre maintenant.\n",
      "(Miss Anne) - Je suis déjà libre, que fais tu Fred?\n",
      "(Jack le fou) - Ah ah ! Miss Anne, tu es mienne désormais !\n",
      "(Miss Anne) - Je me fait enlever par Jack le fou\n",
      "(Jack le fou) - Ah ah ! Miss Anne, tu es mienne désormais !\n",
      "(Miss Anne) - Ma parole, tu es idiot Jack le fou\n",
      "Le courageux Fred tire sur Jack le fou. PAN !\n",
      "(Fred) - Prend ça, rascal !\n",
      "(Fred) - Miss Anne, vous êtes libre maintenant.\n",
      "(Jack le fou) - Damned, je suis fait ! Shérif Michael, tu m’as eu !\n"
     ]
    }
   ],
   "source": [
    "## Deuxième histoire\n",
    "Anne.couleur_robe = \"bleu\"\n",
    "\n",
    "Joe.servir(Fred)\n",
    "\n",
    "Fred.liberer(Anne)\n",
    "\n",
    "Jack.kidnapper(Anne)\n",
    "Jack.kidnapper(Anne)\n",
    "\n",
    "Fred.tirer(Jack)\n",
    "Fred.liberer(Anne)\n",
    "\n",
    "Jack.emprisonne(Michael)\n"
   ]
  },
  {
   "cell_type": "code",
   "execution_count": 33,
   "metadata": {},
   "outputs": [
    {
     "name": "stdout",
     "output_type": "stream",
     "text": [
      "(Fred) - Bonjour, je suis Fred et j'aime le bière. On dit de moi que je suis courageux et ma popularité est actuellement de 4/10.\n",
      "(Miss Anne) - Bonjour, je suis Miss Anne et j'aime le ricard. J'ai une belle robe bleu.\n",
      "(Joe) - Bonjour, je suis Joe et j'aime le vin. Je suis le patron de \"Chez Joe\" Coco !\n",
      "(Jack le fou) - Bonjour, je suis Jack le fou et j'aime le vin. J'ai une une prime de 150 $ sur la tête.\n",
      "(Shérif Michael) - Bonjour, je suis le Shérif Michael. J'ai arrêté au moins 0 malfrats dans ce conté.\n"
     ]
    }
   ],
   "source": [
    "Fred.se_presenter()\n",
    "Anne.se_presenter()\n",
    "Joe.se_presenter()\n",
    "Jack.se_presenter()\n",
    "Michael.se_presenter()"
   ]
  },
  {
   "cell_type": "code",
   "execution_count": 36,
   "metadata": {},
   "outputs": [],
   "source": [
    "import tkinter as tk\n",
    "import tkinter.ttk as ttk\n",
    "root = tk.Tk()\n",
    "\n",
    "Label1 = tk.Label(text = \"Hello\").pack()\n",
    "brigand = ttk.Combobox(values=[Jack.nom]).pack(side = tk.LEFT)\n",
    "Label2 = tk.Label(text = \"enlève\").pack(side = tk.LEFT)\n",
    "dame = ttk.Combobox(values=[Anne.nom]).pack(side = tk.LEFT)\n",
    "enlever = tk.Button(text=\"Enlever\").pack(side = tk.LEFT)\n",
    "\n",
    "root.mainloop()\n"
   ]
  },
  {
   "cell_type": "code",
   "execution_count": null,
   "metadata": {},
   "outputs": [],
   "source": []
  }
 ],
 "metadata": {
  "interpreter": {
   "hash": "3ecb328219053580996b3584c80f5022b9bec0184b2c87a98345795fe7fb8f0c"
  },
  "kernelspec": {
   "display_name": "Python 3.10.2 64-bit",
   "language": "python",
   "name": "python3"
  },
  "language_info": {
   "codemirror_mode": {
    "name": "ipython",
    "version": 3
   },
   "file_extension": ".py",
   "mimetype": "text/x-python",
   "name": "python",
   "nbconvert_exporter": "python",
   "pygments_lexer": "ipython3",
   "version": "3.10.2"
  },
  "orig_nbformat": 4
 },
 "nbformat": 4,
 "nbformat_minor": 2
}
