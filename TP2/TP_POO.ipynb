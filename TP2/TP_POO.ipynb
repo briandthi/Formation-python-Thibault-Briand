{
 "cells": [
  {
   "cell_type": "markdown",
   "metadata": {},
   "source": [
    "# TP POO: pythonTown"
   ]
  },
  {
   "cell_type": "markdown",
   "metadata": {},
   "source": [
    "## Partie 1: pythonTown"
   ]
  },
  {
   "cell_type": "markdown",
   "metadata": {},
   "source": [
    "### Humain"
   ]
  },
  {
   "cell_type": "code",
   "execution_count": 25,
   "metadata": {},
   "outputs": [],
   "source": [
    "from abc import ABC\n",
    "class Humain(ABC):\n",
    "\n",
    "    # Attributs\n",
    "    def __init__(self, nom: str, boisson: str = \"eau\"):\n",
    "        self.__nom = nom\n",
    "        self.__boisson = boisson\n",
    "\n",
    "    # Methodes\n",
    "    def parler(self, text):\n",
    "        print(f\"({self.nom}) - {text}\")\n",
    "\n",
    "    def se_presenter(self):\n",
    "        return f\"Bonjour, je suis {self.nom} et j'aime le {self.boisson}.\"\n",
    "\n",
    "    def boire(self, boisson: str):\n",
    "        # TO DO\n",
    "        self.parler(f\"Ah! un bon verre de {boisson} ! MIAMM !\")\n",
    "    @property\n",
    "    def nom(self):\n",
    "        return self.__nom\n",
    "\n",
    "    @property\n",
    "    def boisson(self):\n",
    "        return self.__boisson"
   ]
  },
  {
   "cell_type": "code",
   "execution_count": 26,
   "metadata": {},
   "outputs": [
    {
     "name": "stdout",
     "output_type": "stream",
     "text": [
      "Boujour Fred présente toi.\n",
      "(Fred) - Bonjour, je suis Fred et j'aime le Bière.\n",
      "Buvons un verre de Bière alors!\n",
      "(Fred) - Ah! un bon verre de Bière ! MIAMM !\n"
     ]
    }
   ],
   "source": [
    "fred = Humain(\"Fred\", \"Bière\")\n",
    "\n",
    "# L'histoire\n",
    "print(f\"Boujour {fred.nom} présente toi.\")\n",
    "fred.parler(fred.se_presenter())\n",
    "print(f\"Buvons un verre de {fred.boisson} alors!\")\n",
    "fred.boire(fred.boisson)"
   ]
  },
  {
   "cell_type": "markdown",
   "metadata": {},
   "source": [
    "## Partie 2: pythonTown: héritage"
   ]
  },
  {
   "cell_type": "code",
   "execution_count": 4,
   "metadata": {},
   "outputs": [],
   "source": [
    "from enum import Enum"
   ]
  },
  {
   "cell_type": "markdown",
   "metadata": {},
   "source": [
    "### Cowboy / Dame / Brigand"
   ]
  },
  {
   "cell_type": "code",
   "execution_count": 5,
   "metadata": {},
   "outputs": [],
   "source": [
    "class Etat(Enum):\n",
    "    libre = \"libre\"\n",
    "    captive = \"captive\""
   ]
  },
  {
   "cell_type": "code",
   "execution_count": 6,
   "metadata": {},
   "outputs": [],
   "source": [
    "class Cowboy(Humain):\n",
    "\n",
    "    def __init__(self, nom: str, adjectif: str =\"vaillant\", boisson: str = \"eau\"):\n",
    "        super().__init__(nom, boisson)\n",
    "        self.__popularite = 0\n",
    "        self.__adjectif = adjectif\n",
    "\n",
    "    def liberer(self, dame: Humain):\n",
    "        self.parler(f\"{dame.nom}, vous êtes libre maintenant.\")\n",
    "        dame.se_faire_liberer(self)\n",
    "        self.__popularite += 1\n",
    "\n",
    "    def tirer(self, brigand: Humain):\n",
    "        print(f\"Le {self.__adjectif} {self.nom} tire sur {brigand.nom}. PAN !\")\n",
    "        self.parler(f\"Prend ça, rascal !\")\n",
    "\n",
    "    @property\n",
    "    def adjectif(self):\n",
    "        return self.__adjectif\n",
    "\n",
    "    @property\n",
    "    def popularite(self):\n",
    "        return self.__popularite\n",
    "\n",
    "    def se_presenter(self):\n",
    "        self.parler(f\"{super().se_presenter()} On dit de moi que je suis {self.adjectif} et ma popularité est actuellement de {self.popularite}/10.\")\n",
    "\n",
    "\n",
    "class Dame(Humain):\n",
    "\n",
    "    def __init__(self, couleur_robe: str, nom: str, boisson: str = \"champagne\"):\n",
    "        super().__init__(nom, boisson)\n",
    "        self.__couleur_robe = couleur_robe\n",
    "        self.__etat = Etat.libre\n",
    "        self.__ravisseur = None\n",
    "        self.__sauveur = None\n",
    "\n",
    "    def se_faire_kidnapper(self, ravisseur: Humain):\n",
    "        if self.__etat == Etat.libre:\n",
    "            self.__ravisseur = ravisseur\n",
    "            self.__etat = Etat.captive\n",
    "            self.parler(f\"Je me fait enlever par {self.__ravisseur.nom}\")\n",
    "        else:\n",
    "            if ravisseur.nom == self.__ravisseur.nom:\n",
    "                self.parler(f\"Ma parole, tu es idiot {self.__ravisseur.nom}\")\n",
    "            else:\n",
    "                self.parler(f\"Je suis déjà retenue par {self.__ravisseur.nom}\")\n",
    "\n",
    "    def se_faire_liberer(self, sauveur: Humain):\n",
    "        if self.__etat == Etat.captive:\n",
    "            self.__sauveur = sauveur\n",
    "            self.__etat = Etat.libre\n",
    "        else:\n",
    "            self.parler(f\"Je suis déjà libre, que fais tu {sauveur.nom}?\")\n",
    "            \n",
    "    @property\n",
    "    def couleur_robe(self):\n",
    "        return self.__couleur_robe\n",
    "\n",
    "    @couleur_robe.setter\n",
    "    def couleur_robe(self, new_couleur: str):\n",
    "        self.__couleur_robe = new_couleur\n",
    "        self.parler(f\"Regardez ma nouvelle robe {self.__couleur_robe} !\")\n",
    "    \n",
    "    # Surcharge\n",
    "    @property\n",
    "    def nom(self):\n",
    "        return f\"Miss {super().nom}\"\n",
    "\n",
    "    def se_presenter(self):\n",
    "        self.parler(f\"{super().se_presenter()} J'ai une belle robe {self.couleur_robe}.\")\n",
    "\n",
    "\n",
    "class Brigand(Humain):\n",
    "\n",
    "    def __init__(self, nom: str, look: str = \"méchant\", prime: int = 100, boisson: str = \"vignasse\"):\n",
    "        super().__init__(nom, boisson)\n",
    "        self.__look = look\n",
    "        self.__nb_enlevements = 0\n",
    "        self.__prime = prime\n",
    "        self.__prison = False\n",
    "\n",
    "    def kidnapper(self, dame: Humain):\n",
    "        self.__nb_enlevements += 1\n",
    "        self.parler(f\"Ah ah ! {dame.nom}, tu es mienne désormais !\")\n",
    "        dame.se_faire_kidnapper(self)\n",
    "\n",
    "    def valeur_prime(self):\n",
    "        return self.__prime\n",
    "\n",
    "    def emprisonne(self, sherif: Humain): \n",
    "        self.__prison = True\n",
    "        self.parler(f\"Damned, je suis fait ! {sherif.nom}, tu m’as eu !\")\n",
    "\n",
    "    @property\n",
    "    def prime(self):\n",
    "        return self.__prime\n",
    "        \n",
    "    @property\n",
    "    def prison(self):\n",
    "        return self.__prison\n",
    "\n",
    "    # Surcharge\n",
    "    @property\n",
    "    def nom(self):\n",
    "        return f\"{super().nom} le {self.__look}\"\n",
    "\n",
    "    \n",
    "    def se_presenter(self):\n",
    "        self.parler(f\"{super().se_presenter()} J'ai une une prime de {self.prime} $ sur la tête.\")"
   ]
  },
  {
   "cell_type": "code",
   "execution_count": 7,
   "metadata": {},
   "outputs": [
    {
     "name": "stdout",
     "output_type": "stream",
     "text": [
      "(Fred) - Bonjour, je suis Fred et j'aime le bière. On dit de moi que je suis courageux et ma popularité est actuellement de 0/10.\n",
      "(Miss Anne) - Bonjour, je suis Miss Anne et j'aime le ricard. J'ai une belle robe rouge.\n",
      "(Jack le fou) - Bonjour, je suis Jack le fou et j'aime le vin. J'ai une une prime de 150 $ sur la tête.\n"
     ]
    }
   ],
   "source": [
    "Fred = Cowboy(\"Fred\", \"courageux\", \"bière\")\n",
    "Fred.se_presenter()\n",
    "\n",
    "Anne = Dame(\"rouge\", \"Anne\", \"ricard\")\n",
    "Anne.se_presenter()\n",
    "\n",
    "Jack = Brigand(\"Jack\", \"fou\", 150, \"vin\")\n",
    "Jack.se_presenter()"
   ]
  },
  {
   "cell_type": "code",
   "execution_count": 8,
   "metadata": {},
   "outputs": [
    {
     "name": "stdout",
     "output_type": "stream",
     "text": [
      "(Miss Anne) - Regardez ma nouvelle robe bleu !\n",
      "(Fred) - Miss Anne, vous êtes libre maintenant.\n",
      "(Miss Anne) - Je suis déjà libre, que fais tu Fred?\n",
      "(Jack le fou) - Ah ah ! Miss Anne, tu es mienne désormais !\n",
      "(Miss Anne) - Je me fait enlever par Jack le fou\n",
      "(Jack le fou) - Ah ah ! Miss Anne, tu es mienne désormais !\n",
      "(Miss Anne) - Ma parole, tu es idiot Jack le fou\n",
      "Le courageux Fred tire sur Jack le fou. PAN !\n",
      "(Fred) - Prend ça, rascal !\n",
      "(Fred) - Miss Anne, vous êtes libre maintenant.\n",
      "(Jack le fou) - Damned, je suis fait ! Fred, tu m’as eu !\n"
     ]
    }
   ],
   "source": [
    "## Première histoire\n",
    "Anne.couleur_robe = \"bleu\"\n",
    "\n",
    "Fred.liberer(Anne)\n",
    "\n",
    "Jack.kidnapper(Anne)\n",
    "Jack.kidnapper(Anne)\n",
    "\n",
    "Fred.tirer(Jack)\n",
    "Fred.liberer(Anne)\n",
    "\n",
    "Jack.emprisonne(Fred)\n",
    "\n"
   ]
  },
  {
   "cell_type": "markdown",
   "metadata": {},
   "source": [
    "### Barman"
   ]
  },
  {
   "cell_type": "code",
   "execution_count": 9,
   "metadata": {},
   "outputs": [],
   "source": [
    "class Barman(Humain):\n",
    "\n",
    "    def __init__(self, nom: str, bar: str = \"\", boisson: str = \"vin\"):\n",
    "        super().__init__(nom, boisson)\n",
    "        if bar ==\"\":\n",
    "            self.__bar = f'\"Chez {self.nom}\"'\n",
    "        else:\n",
    "            self.__bar = bar\n",
    "\n",
    "    @property\n",
    "    def bar(self):\n",
    "        return self.__bar\n",
    "\n",
    "    def servir(self, client: Humain):\n",
    "        client.boire(client.boisson)\n",
    "\n",
    "    def parler(self, text):\n",
    "        super().parler(text + \" Coco !\")\n",
    "    def se_presenter(self):\n",
    "        self.parler(f\"{super().se_presenter()} Je suis le patron de {self.bar}\")"
   ]
  },
  {
   "cell_type": "code",
   "execution_count": 10,
   "metadata": {},
   "outputs": [
    {
     "name": "stdout",
     "output_type": "stream",
     "text": [
      "(Joe) - Bonjour, je suis Joe et j'aime le vin. Je suis le patron de \"Chez Joe\" Coco !\n",
      "(Fred) - Ah! un bon verre de bière ! MIAMM !\n"
     ]
    }
   ],
   "source": [
    "Joe = Barman(\"Joe\")\n",
    "Joe.se_presenter()\n",
    "\n",
    "Joe.servir(Fred)"
   ]
  },
  {
   "cell_type": "markdown",
   "metadata": {},
   "source": [
    "### Shérif"
   ]
  },
  {
   "cell_type": "code",
   "execution_count": 11,
   "metadata": {},
   "outputs": [],
   "source": [
    "class Sherif(Cowboy):\n",
    "\n",
    "    def __init__(self, nom: str, adjectif: str =\"vaillant\", boisson: str = \"eau\"):\n",
    "        super().__init__(nom, adjectif, boisson)\n",
    "        self.__nb_brigand = 0\n",
    "\n",
    "    @property\n",
    "    def nb_brigand(self):\n",
    "        return self.__nb_brigand\n",
    "\n",
    "    def coffrer(self, brigand: Humain):\n",
    "        if brigand.prison:\n",
    "            print(f'\"{brigand.nom} est déjà en prison\"')\n",
    "        else:\n",
    "            self.parler(f\"Au nom de la loi {brigand.nom}, je vous arrête\")\n",
    "            brigand.emprisonne(self)\n",
    "\n",
    "    def rechercher(self, brigand: Humain):\n",
    "        print(f\"OYEZ OYEZ BRAVE GENS !! {brigand.prime} $ à qui arrêtera {brigand.nom} mort ou vif !\")\n",
    "\n",
    "    @property\n",
    "    def nom(self):\n",
    "        return f\"Shérif {super().nom}\"\n",
    "\n",
    "    \n",
    "    def se_presenter(self):\n",
    "        self.parler(f\"Bonjour, je suis le {self.nom}. J'ai arrêté au moins {self.nb_brigand} malfrats dans ce conté.\")"
   ]
  },
  {
   "cell_type": "code",
   "execution_count": 12,
   "metadata": {},
   "outputs": [
    {
     "name": "stdout",
     "output_type": "stream",
     "text": [
      "(Shérif Michael) - Bonjour, je suis le Shérif Michael. J'ai arrêté au moins 0 malfrats dans ce conté.\n"
     ]
    }
   ],
   "source": [
    "Michael = Sherif(\"Michael\")\n",
    "Michael.se_presenter()"
   ]
  },
  {
   "cell_type": "code",
   "execution_count": 13,
   "metadata": {},
   "outputs": [
    {
     "name": "stdout",
     "output_type": "stream",
     "text": [
      "(Miss Anne) - Regardez ma nouvelle robe bleu !\n",
      "(Fred) - Ah! un bon verre de bière ! MIAMM !\n",
      "(Fred) - Miss Anne, vous êtes libre maintenant.\n",
      "(Miss Anne) - Je suis déjà libre, que fais tu Fred?\n",
      "(Jack le fou) - Ah ah ! Miss Anne, tu es mienne désormais !\n",
      "(Miss Anne) - Je me fait enlever par Jack le fou\n",
      "(Jack le fou) - Ah ah ! Miss Anne, tu es mienne désormais !\n",
      "(Miss Anne) - Ma parole, tu es idiot Jack le fou\n",
      "Le courageux Fred tire sur Jack le fou. PAN !\n",
      "(Fred) - Prend ça, rascal !\n",
      "(Fred) - Miss Anne, vous êtes libre maintenant.\n",
      "(Jack le fou) - Damned, je suis fait ! Shérif Michael, tu m’as eu !\n"
     ]
    }
   ],
   "source": [
    "## Deuxième histoire\n",
    "Anne.couleur_robe = \"bleu\"\n",
    "\n",
    "Joe.servir(Fred)\n",
    "\n",
    "Fred.liberer(Anne)\n",
    "\n",
    "Jack.kidnapper(Anne)\n",
    "Jack.kidnapper(Anne)\n",
    "\n",
    "Fred.tirer(Jack)\n",
    "Fred.liberer(Anne)\n",
    "\n",
    "Jack.emprisonne(Michael)\n"
   ]
  },
  {
   "cell_type": "code",
   "execution_count": 14,
   "metadata": {},
   "outputs": [
    {
     "name": "stdout",
     "output_type": "stream",
     "text": [
      "(Fred) - Bonjour, je suis Fred et j'aime le bière. On dit de moi que je suis courageux et ma popularité est actuellement de 4/10.\n",
      "(Miss Anne) - Bonjour, je suis Miss Anne et j'aime le ricard. J'ai une belle robe bleu.\n",
      "(Joe) - Bonjour, je suis Joe et j'aime le vin. Je suis le patron de \"Chez Joe\" Coco !\n",
      "(Jack le fou) - Bonjour, je suis Jack le fou et j'aime le vin. J'ai une une prime de 150 $ sur la tête.\n",
      "(Shérif Michael) - Bonjour, je suis le Shérif Michael. J'ai arrêté au moins 0 malfrats dans ce conté.\n"
     ]
    }
   ],
   "source": [
    "Fred.se_presenter()\n",
    "Anne.se_presenter()\n",
    "Joe.se_presenter()\n",
    "Jack.se_presenter()\n",
    "Michael.se_presenter()"
   ]
  },
  {
   "cell_type": "markdown",
   "metadata": {},
   "source": [
    "## Partie 3: IHM"
   ]
  },
  {
   "cell_type": "markdown",
   "metadata": {},
   "source": [
    "### Prenom data"
   ]
  },
  {
   "cell_type": "code",
   "execution_count": 15,
   "metadata": {},
   "outputs": [
    {
     "data": {
      "text/html": [
       "<div>\n",
       "<style scoped>\n",
       "    .dataframe tbody tr th:only-of-type {\n",
       "        vertical-align: middle;\n",
       "    }\n",
       "\n",
       "    .dataframe tbody tr th {\n",
       "        vertical-align: top;\n",
       "    }\n",
       "\n",
       "    .dataframe thead th {\n",
       "        text-align: right;\n",
       "    }\n",
       "</style>\n",
       "<table border=\"1\" class=\"dataframe\">\n",
       "  <thead>\n",
       "    <tr style=\"text-align: right;\">\n",
       "      <th></th>\n",
       "      <th>01_prenom</th>\n",
       "      <th>02_genre</th>\n",
       "      <th>03_langage</th>\n",
       "      <th>04_fréquence</th>\n",
       "    </tr>\n",
       "  </thead>\n",
       "  <tbody>\n",
       "    <tr>\n",
       "      <th>0</th>\n",
       "      <td>aaliyah</td>\n",
       "      <td>f</td>\n",
       "      <td>english (modern)</td>\n",
       "      <td>0.0</td>\n",
       "    </tr>\n",
       "    <tr>\n",
       "      <th>1</th>\n",
       "      <td>aapeli</td>\n",
       "      <td>m</td>\n",
       "      <td>finnish</td>\n",
       "      <td>0.0</td>\n",
       "    </tr>\n",
       "    <tr>\n",
       "      <th>2</th>\n",
       "      <td>aapo</td>\n",
       "      <td>m</td>\n",
       "      <td>finnish</td>\n",
       "      <td>0.0</td>\n",
       "    </tr>\n",
       "    <tr>\n",
       "      <th>3</th>\n",
       "      <td>aaren</td>\n",
       "      <td>m,f</td>\n",
       "      <td>english</td>\n",
       "      <td>0.0</td>\n",
       "    </tr>\n",
       "    <tr>\n",
       "      <th>4</th>\n",
       "      <td>aarne</td>\n",
       "      <td>m</td>\n",
       "      <td>finnish</td>\n",
       "      <td>0.0</td>\n",
       "    </tr>\n",
       "  </tbody>\n",
       "</table>\n",
       "</div>"
      ],
      "text/plain": [
       "  01_prenom 02_genre        03_langage  04_fréquence\n",
       "0   aaliyah        f  english (modern)           0.0\n",
       "1    aapeli        m           finnish           0.0\n",
       "2      aapo        m           finnish           0.0\n",
       "3     aaren      m,f           english           0.0\n",
       "4     aarne        m           finnish           0.0"
      ]
     },
     "execution_count": 15,
     "metadata": {},
     "output_type": "execute_result"
    }
   ],
   "source": [
    "import pandas as pd\n",
    "\n",
    "prenoms = pd.read_csv(\"./Prenoms.csv\", delimiter=';', encoding=\"iso-8859-1\")\n",
    "prenoms.head()"
   ]
  },
  {
   "cell_type": "code",
   "execution_count": 23,
   "metadata": {},
   "outputs": [],
   "source": [
    "# cleaning\n",
    "def preprocessing(prenom):\n",
    "    prenoms[\"04_fréquence\"].astype(float)\n",
    "    prenoms_frequent = prenoms[(prenoms[\"04_fréquence\"] > 1) ]\n",
    "    prenoms_f = prenoms_frequent[(prenoms_frequent[\"02_genre\"] == \"f\")]\n",
    "    prenoms_m = prenoms_frequent[(prenoms_frequent[\"02_genre\"] == \"m\")]\n",
    "    return prenoms_f, prenoms_m    "
   ]
  },
  {
   "cell_type": "markdown",
   "metadata": {},
   "source": [
    "### Paramètrage"
   ]
  },
  {
   "cell_type": "code",
   "execution_count": 24,
   "metadata": {},
   "outputs": [
    {
     "data": {
      "text/plain": [
       "4"
      ]
     },
     "execution_count": 24,
     "metadata": {},
     "output_type": "execute_result"
    }
   ],
   "source": [
    "prenoms_f, prenoms_m = preprocessing(prenoms)   \n",
    "looks = ['accueillant', 'adorable', 'ambitieux', 'alourdi', 'attifé', 'attrayant', 'beau', 'carré', 'costaud', 'crasseux', 'désillusionné', 'droit', 'dynamique', 'élégant']\n",
    "adjectifs = ['agressif', 'Amusé', 'Avare', 'Brave', 'Brillant', 'Calme', 'chaleureux', 'combatif', 'coopératif', 'cruel', 'dangereux', 'Débile', 'Désagréable', 'Déterminé']\t\n",
    "couleurs = ['Abricot', 'acajou', 'ammande', 'ambre', 'azur', 'blanc cassé', 'bronze', 'cacao', 'écru']\n",
    "\n",
    "initialisateur = {\n",
    "    'personnages':{\n",
    "        'cowboys': 3,\n",
    "        'dames': 6,\n",
    "        'barmans': 2,\n",
    "        'sherifs': 1,\n",
    "        'brigands': 4\n",
    "    },\n",
    "    'prenoms': {\n",
    "        'femme': prenoms_f,\n",
    "        'homme': prenoms_m\n",
    "    },\n",
    "    'adjectifs': adjectifs,\n",
    "    'looks': looks,\n",
    "    'couleurs':couleurs\n",
    "}\n",
    "\n",
    "initialisateur[\"personnages\"][\"brigands\"]"
   ]
  },
  {
   "cell_type": "markdown",
   "metadata": {},
   "source": [
    "### Histoire"
   ]
  },
  {
   "cell_type": "code",
   "execution_count": 19,
   "metadata": {},
   "outputs": [],
   "source": [
    "from random import randrange\n",
    "import random\n",
    "\n",
    "## fonction utilitaires\n",
    "def random_in_df(df, col:str):\n",
    "    nb = randrange(0, len(df) - 1)\n",
    "    rand_prenom = df[col].iloc[nb]\n",
    "    return rand_prenom"
   ]
  },
  {
   "cell_type": "code",
   "execution_count": 20,
   "metadata": {},
   "outputs": [],
   "source": [
    "class Histoire():\n",
    "\n",
    "    def __init__(self, initialiseur):\n",
    "        self.__initialiseur = initialiseur\n",
    "        self.__brigands, self.__cowboys, self.__dames, self.__barmans, self.__sherifs = self.generator(self.__initialiseur)\n",
    "        \n",
    "\n",
    "    def generator(self, valeurs):\n",
    "        try:\n",
    "            brigands = [\n",
    "                Brigand(\n",
    "                    random_in_df(prenoms_m, '01_prenom'),\n",
    "                    random.choice(valeurs['looks']),\n",
    "                    randrange(1500)) \n",
    "                    for i in range( valeurs['personnages']['brigands'])]\n",
    "\n",
    "\n",
    "            cowboys = [\n",
    "                Cowboy(\n",
    "                    random_in_df(prenoms_m, '01_prenom'),\n",
    "                    random.choice(valeurs['adjectifs'])) \n",
    "                    for i in range( valeurs['personnages']['cowboys'])]\n",
    "\n",
    "            dames = [\n",
    "                Dame(\n",
    "                    random.choice(valeurs['couleurs']),\n",
    "                    random_in_df(prenoms_f, '01_prenom')) \n",
    "                    for i in range( valeurs['personnages']['dames'])]\n",
    "\n",
    "            barmans = [\n",
    "                Barman(\n",
    "                    random_in_df(prenoms_m, '01_prenom')) \n",
    "                    for i in range( valeurs['personnages']['barmans'])]\n",
    "\n",
    "            sherifs = [\n",
    "                Sherif(\n",
    "                    random_in_df(prenoms_m, '01_prenom'),\n",
    "                    random.choice(valeurs['adjectifs'])) \n",
    "                    for i in range( valeurs['personnages']['sherifs'])]\n",
    "\n",
    "            return brigands, cowboys, dames, barmans, sherifs\n",
    "\n",
    "        except Exception as e:\n",
    "            raise e\n",
    "\n",
    "    @property\n",
    "    def brigands(self):\n",
    "        return self.__brigands\n",
    "\n",
    "    @property\n",
    "    def cowboys(self):\n",
    "        return self.__cowboys\n",
    "\n",
    "    @property\n",
    "    def dames(self):\n",
    "        return self.__dames\n",
    "        \n",
    "    @property\n",
    "    def barmans(self):\n",
    "        return self.__barmans\n",
    "        \n",
    "    @property\n",
    "    def sherifs(self):\n",
    "        return self.__sherifs\n",
    "\n",
    "    def liberer(self):\n",
    "        random.choice(self.__cowboys).liberer(random.choice(self.__dames))\n",
    "    def tirer(self):\n",
    "        random.choice(self.__cowboys).tirer(random.choice(self.__brigands))\n",
    "    def changer_robe(self):\n",
    "        random.choice(self.__dames).couleur_robe = random.choice(self.__initialiseur['couleurs'])\n",
    "    def servir(self):\n",
    "        rand_h = random.choice([self.__brigands, self.__cowboys, self.__dames, self.__sherifs])\n",
    "        random.choice(self.__barmans).servir(random.choice(rand_h))\n",
    "    def kidnapper(self):\n",
    "        random.choice(self.__brigands).kidnapper(random.choice(self.__dames))\n",
    "    def coffrer(self):\n",
    "        random.choice(self.__sherifs).coffrer(random.choice(self.__brigands))\n",
    "    def rechercher(self):\n",
    "        random.choice(self.__sherifs).coffrer(random.choice(self.__brigands))\n",
    "\n",
    "    def rand_action(self):\n",
    "        i = randrange(1,7)\n",
    "        if i == 1:\n",
    "            self.liberer()\n",
    "        elif i == 2:\n",
    "            self.tirer()\n",
    "        elif i == 3:\n",
    "            self.changer_robe()\n",
    "        elif i == 4:\n",
    "            self.servir()\n",
    "        elif i == 5:\n",
    "            self.kidnapper()\n",
    "        elif i == 6:\n",
    "            self.coffrer()\n",
    "        elif i == 7:\n",
    "            self.rechercher()"
   ]
  },
  {
   "cell_type": "markdown",
   "metadata": {},
   "source": [
    " ### interface"
   ]
  },
  {
   "cell_type": "code",
   "execution_count": 22,
   "metadata": {},
   "outputs": [
    {
     "name": "stdout",
     "output_type": "stream",
     "text": [
      "(Shérif joe) - Au nom de la loi luc le droit, je vous arrête\n",
      "(luc le droit) - Damned, je suis fait ! Shérif joe, tu m’as eu !\n",
      "\"luc le droit est déjà en prison\"\n",
      "(Miss lalla) - Regardez ma nouvelle robe ammande !\n",
      "(ahmed) - Miss marina, vous êtes libre maintenant.\n",
      "(Miss marina) - Je suis déjà libre, que fais tu ahmed?\n",
      "Le chaleureux ahmed tire sur fion le beau. PAN !\n",
      "(ahmed) - Prend ça, rascal !\n",
      "\"luc le droit est déjà en prison\"\n",
      "Le Désagréable ares tire sur fion le beau. PAN !\n",
      "(ares) - Prend ça, rascal !\n",
      "(shaw le accueillant) - Ah! un bon verre de vignasse ! MIAMM !\n",
      "Le Désagréable ares tire sur fion le beau. PAN !\n",
      "(ares) - Prend ça, rascal !\n",
      "(fion le beau) - Ah ah ! Miss marina, tu es mienne désormais !\n",
      "(Miss marina) - Je me fait enlever par fion le beau\n",
      "(Miss bride) - Regardez ma nouvelle robe acajou !\n",
      "\"luc le droit est déjà en prison\"\n",
      "(Shérif joe) - Ah! un bon verre de eau ! MIAMM !\n",
      "Le chaleureux ahmed tire sur augusto le élégant. PAN !\n",
      "(ahmed) - Prend ça, rascal !\n",
      "(Shérif joe) - Au nom de la loi fion le beau, je vous arrête\n",
      "(fion le beau) - Damned, je suis fait ! Shérif joe, tu m’as eu !\n",
      "(Miss bride) - Regardez ma nouvelle robe ammande !\n",
      "(fion le beau) - Ah ah ! Miss bride, tu es mienne désormais !\n",
      "(Miss bride) - Je me fait enlever par fion le beau\n",
      "(Miss carole) - Regardez ma nouvelle robe ammande !\n",
      "\"fion le beau est déjà en prison\"\n",
      "(péter) - Miss clémence, vous êtes libre maintenant.\n",
      "(Miss clémence) - Je suis déjà libre, que fais tu péter?\n",
      "(luc le droit) - Ah ah ! Miss marina, tu es mienne désormais !\n",
      "(Miss marina) - Je suis déjà retenue par fion le beau\n",
      "\"luc le droit est déjà en prison\"\n",
      "(Shérif joe) - Au nom de la loi augusto le élégant, je vous arrête\n",
      "(augusto le élégant) - Damned, je suis fait ! Shérif joe, tu m’as eu !\n",
      "(ahmed) - Miss clémence, vous êtes libre maintenant.\n",
      "(Miss clémence) - Je suis déjà libre, que fais tu ahmed?\n",
      "(péter) - Miss lalla, vous êtes libre maintenant.\n",
      "(Miss lalla) - Je suis déjà libre, que fais tu péter?\n",
      "(luc le droit) - Ah! un bon verre de vignasse ! MIAMM !\n",
      "(ares) - Ah! un bon verre de eau ! MIAMM !\n"
     ]
    }
   ],
   "source": [
    "import tkinter as tk\n",
    "import tkinter.ttk as ttk\n",
    "\n",
    "main = Histoire(initialisateur)\n",
    "\n",
    "root = tk.Tk()\n",
    "\n",
    "\n",
    "Label1 = tk.Label(text = \"Distribution\").pack(side = tk.TOP)\n",
    "\n",
    "# Personnages\n",
    "list_dame = tk.Listbox()\n",
    "for i in range(len(main.dames)):\n",
    "    list_dame.insert(i, main.dames[i].nom)\n",
    "list_dame.pack(side = tk.LEFT)\n",
    "\n",
    "list_cb = tk.Listbox()\n",
    "for i in range(len(main.cowboys)):\n",
    "    list_cb.insert(i, main.cowboys[i].nom)\n",
    "list_cb.pack(side = tk.LEFT)\n",
    "\n",
    "list_b = tk.Listbox()\n",
    "for i in range(len(main.brigands)):\n",
    "    list_b.insert(i, main.brigands[i].nom)\n",
    "list_b.pack(side = tk.LEFT)\n",
    "\n",
    "list_bar = tk.Listbox()\n",
    "for i in range(len(main.barmans)):\n",
    "    list_bar.insert(i, main.barmans[i].nom)\n",
    "list_bar.pack(side = tk.LEFT)\n",
    "\n",
    "list_s = tk.Listbox()\n",
    "for i in range(len(main.sherifs)):\n",
    "    list_s.insert(i, main.sherifs[i].nom)\n",
    "list_s.pack()\n",
    "\n",
    "\n",
    "action_alea = tk.Button(text=\"action aléatoire\", command=main.rand_action).pack()\n",
    "# brigand = ttk.Combobox(values=[brigand.nom for brigand in main.brigands]).pack(side = tk.LEFT)\n",
    "# Label2 = tk.Label(text = \"enlève\").pack(side = tk.LEFT)\n",
    "# dame = ttk.Combobox(values=[dame.nom for dame in main.dames]).pack(side = tk.LEFT)\n",
    "# enlever = tk.Button(text=\"Enlever\").pack(side = tk.LEFT)\n",
    "\n",
    "root.mainloop()\n"
   ]
  },
  {
   "cell_type": "code",
   "execution_count": null,
   "metadata": {},
   "outputs": [],
   "source": []
  }
 ],
 "metadata": {
  "interpreter": {
   "hash": "3ecb328219053580996b3584c80f5022b9bec0184b2c87a98345795fe7fb8f0c"
  },
  "kernelspec": {
   "display_name": "Python 3.10.2 64-bit",
   "language": "python",
   "name": "python3"
  },
  "language_info": {
   "codemirror_mode": {
    "name": "ipython",
    "version": 3
   },
   "file_extension": ".py",
   "mimetype": "text/x-python",
   "name": "python",
   "nbconvert_exporter": "python",
   "pygments_lexer": "ipython3",
   "version": "3.10.2"
  },
  "orig_nbformat": 4
 },
 "nbformat": 4,
 "nbformat_minor": 2
}
