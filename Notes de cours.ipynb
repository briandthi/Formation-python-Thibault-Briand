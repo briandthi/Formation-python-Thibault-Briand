{
 "cells": [
  {
   "cell_type": "markdown",
   "metadata": {},
   "source": [
    "# Note de cours"
   ]
  },
  {
   "cell_type": "code",
   "execution_count": 35,
   "metadata": {},
   "outputs": [
    {
     "name": "stdout",
     "output_type": "stream",
     "text": [
      "hello world!\n"
     ]
    }
   ],
   "source": [
    "print(\"hello world!\")"
   ]
  },
  {
   "cell_type": "code",
   "execution_count": null,
   "metadata": {},
   "outputs": [],
   "source": [
    "## Installer des package dans le notebook\n",
    "\n",
    "# import sys\n",
    "\n",
    "# !{sys.executable} -m pip install numpy pandas nltk"
   ]
  },
  {
   "cell_type": "markdown",
   "metadata": {},
   "source": [
    "## Type simple"
   ]
  },
  {
   "cell_type": "code",
   "execution_count": 36,
   "metadata": {},
   "outputs": [
    {
     "name": "stdout",
     "output_type": "stream",
     "text": [
      "5\n",
      "type: <class 'int'>\n"
     ]
    }
   ],
   "source": [
    "a = 5\n",
    "\n",
    "print(a)\n",
    "print(\"type:\",type(a))"
   ]
  },
  {
   "cell_type": "markdown",
   "metadata": {},
   "source": [
    "## Type élaboré"
   ]
  },
  {
   "cell_type": "code",
   "execution_count": 37,
   "metadata": {},
   "outputs": [
    {
     "name": "stdout",
     "output_type": "stream",
     "text": [
      "2022-01-25 11:43:51.108879\n",
      "type: <class 'datetime.datetime'>\n"
     ]
    }
   ],
   "source": [
    "import datetime\n",
    "\n",
    "today = datetime.datetime.today()\n",
    "\n",
    "print(today)\n",
    "print(\"type:\", type(today))"
   ]
  },
  {
   "cell_type": "markdown",
   "metadata": {},
   "source": [
    "## Changement de type avec \"eval\""
   ]
  },
  {
   "cell_type": "code",
   "execution_count": 38,
   "metadata": {},
   "outputs": [
    {
     "name": "stdout",
     "output_type": "stream",
     "text": [
      "<class 'str'>\n",
      "<class 'int'>\n"
     ]
    }
   ],
   "source": [
    "a = \"5\"\n",
    "b = eval(a)\n",
    "\n",
    "print(type(a))\n",
    "print(type(b))"
   ]
  },
  {
   "cell_type": "markdown",
   "metadata": {},
   "source": [
    "## Formatage"
   ]
  },
  {
   "cell_type": "code",
   "execution_count": 39,
   "metadata": {},
   "outputs": [
    {
     "name": "stdout",
     "output_type": "stream",
     "text": [
      "Bienvenu sur Python 3\n"
     ]
    }
   ],
   "source": [
    "langage = \"Python\"\n",
    "version = 3\n",
    "print(\"Bienvenu sur %s %d\" % (langage, version))"
   ]
  },
  {
   "cell_type": "code",
   "execution_count": 40,
   "metadata": {},
   "outputs": [
    {
     "name": "stdout",
     "output_type": "stream",
     "text": [
      "Bienvenu sur Python 3\n"
     ]
    }
   ],
   "source": [
    " # ce formatage est plus simple\n",
    "version = 3\n",
    "str_formate = f\"Bienvenu sur Python {version}\"\n",
    "print(str_formate)"
   ]
  },
  {
   "cell_type": "markdown",
   "metadata": {},
   "source": [
    "## Ecrire en octet"
   ]
  },
  {
   "cell_type": "code",
   "execution_count": 41,
   "metadata": {},
   "outputs": [
    {
     "name": "stdout",
     "output_type": "stream",
     "text": [
      "b'Python' <class 'bytes'>\n",
      "Python <class 'str'>\n"
     ]
    }
   ],
   "source": [
    "langage = b\"Python\"\n",
    "print(langage, type(langage))\n",
    "\n",
    "str = langage.decode(\"utf8\")\n",
    "print(str, type(str))"
   ]
  },
  {
   "cell_type": "markdown",
   "metadata": {},
   "source": [
    "## Enum"
   ]
  },
  {
   "cell_type": "code",
   "execution_count": 42,
   "metadata": {},
   "outputs": [],
   "source": [
    "from enum import Enum\n",
    "\n",
    "class Carte(Enum):\n",
    "    Pique = 1\n",
    "    Coeur = 2\n",
    "    Carreau = 3\n",
    "    Treffle = 4"
   ]
  },
  {
   "cell_type": "code",
   "execution_count": 43,
   "metadata": {},
   "outputs": [
    {
     "name": "stdout",
     "output_type": "stream",
     "text": [
      "Carte.Carreau Carreau 3\n",
      "<enum 'Carte'>\n"
     ]
    }
   ],
   "source": [
    "carte = Carte.Carreau\n",
    "print( carte, carte.name, carte.value)\n",
    "print(type(carte))"
   ]
  },
  {
   "cell_type": "markdown",
   "metadata": {},
   "source": [
    "## Entrée et sorties"
   ]
  },
  {
   "cell_type": "markdown",
   "metadata": {},
   "source": [
    "* entrée"
   ]
  },
  {
   "cell_type": "code",
   "execution_count": 44,
   "metadata": {},
   "outputs": [],
   "source": [
    "# Ne fonctionne pas dans un notebook\n",
    "# langage = input(\"Quel est ton langage préféré: \")\n",
    "# print(langage)"
   ]
  },
  {
   "cell_type": "markdown",
   "metadata": {},
   "source": [
    "* Message d'erreur"
   ]
  },
  {
   "cell_type": "code",
   "execution_count": 45,
   "metadata": {},
   "outputs": [
    {
     "name": "stderr",
     "output_type": "stream",
     "text": [
      "Ceci est un erreur\n"
     ]
    }
   ],
   "source": [
    "import sys\n",
    "\n",
    "print( \"Ceci est un erreur\", file = sys.stderr)"
   ]
  },
  {
   "cell_type": "markdown",
   "metadata": {},
   "source": [
    "## Reprise de boucle"
   ]
  },
  {
   "cell_type": "code",
   "execution_count": 46,
   "metadata": {},
   "outputs": [
    {
     "name": "stdout",
     "output_type": "stream",
     "text": [
      "1,2,4,5,"
     ]
    }
   ],
   "source": [
    "my_list = [1,2,3,4,5]\n",
    "\n",
    "for nb in my_list:\n",
    "    if nb == 3:\n",
    "        continue\n",
    "    print(nb, end = ',')"
   ]
  },
  {
   "cell_type": "markdown",
   "metadata": {},
   "source": [
    "## Annotations"
   ]
  },
  {
   "cell_type": "code",
   "execution_count": 47,
   "metadata": {},
   "outputs": [
    {
     "data": {
      "text/plain": [
       "1"
      ]
     },
     "execution_count": 47,
     "metadata": {},
     "output_type": "execute_result"
    }
   ],
   "source": [
    "def minimum(val1:int, val2:int) ->int:\n",
    "    return min(val1, val2)\n",
    "\n",
    "minimum(1, 2)"
   ]
  },
  {
   "cell_type": "markdown",
   "metadata": {},
   "source": [
    "## Paramètres en nombre variable"
   ]
  },
  {
   "cell_type": "code",
   "execution_count": 48,
   "metadata": {},
   "outputs": [
    {
     "data": {
      "text/plain": [
       "6"
      ]
     },
     "execution_count": 48,
     "metadata": {},
     "output_type": "execute_result"
    }
   ],
   "source": [
    "def somme_numerique(*valeurs):\n",
    "    somme = 0\n",
    "    for val in valeurs:\n",
    "        somme += val\n",
    "    return somme\n",
    "\n",
    "somme_numerique(1,2,3)"
   ]
  },
  {
   "cell_type": "markdown",
   "metadata": {},
   "source": [
    "## Paramètres nommées en nombre variable"
   ]
  },
  {
   "cell_type": "code",
   "execution_count": 49,
   "metadata": {},
   "outputs": [
    {
     "data": {
      "text/plain": [
       "2.0"
      ]
     },
     "execution_count": 49,
     "metadata": {},
     "output_type": "execute_result"
    }
   ],
   "source": [
    "def moyenne(**valeurs):\n",
    "    somme = 0\n",
    "    for key, value in valeurs.items():\n",
    "        somme += value\n",
    "    \n",
    "    return somme/len(valeurs)\n",
    "\n",
    "moyenne(val1 = 1, val2 = 2, val3 = 3)"
   ]
  },
  {
   "cell_type": "markdown",
   "metadata": {},
   "source": [
    "## Package module\n",
    "#### Voir dossier\n",
    "test_pack\n",
    "* __init__.py\n",
    "* test_module.py"
   ]
  },
  {
   "cell_type": "code",
   "execution_count": 50,
   "metadata": {},
   "outputs": [
    {
     "name": "stdout",
     "output_type": "stream",
     "text": [
      "Je suis un module\n",
      "test_pack.test_module\n",
      "c:\\Users\\Administrateur\\Desktop\\Formation python Thibault Briand\\test_pack\\test_module.py\n"
     ]
    }
   ],
   "source": [
    "import test_pack.test_module as tm\n",
    "\n",
    "tm.test()\n",
    "print(tm.__name__)\n",
    "print(tm.__file__)"
   ]
  },
  {
   "cell_type": "markdown",
   "metadata": {},
   "source": [
    "## Class"
   ]
  },
  {
   "cell_type": "code",
   "execution_count": 74,
   "metadata": {},
   "outputs": [],
   "source": [
    "class Maison:\n",
    "    # attibut de la classe mais pas de l'instance\n",
    "    __nb_maisons = 0\n",
    "\n",
    "    # methode de la classe mais pas de l'instance\n",
    "    @classmethod\n",
    "    def get_nb_maisons(cls):\n",
    "        return cls.__nb_maisons\n",
    "\n",
    "    # attributs de l'instance\n",
    "    def __init__(self, nb_pieces: int, habitants: int, ville: str):\n",
    "\n",
    "        # attributs privés avec __mon_attribut (2 x __)\n",
    "        self.__ville = ville\n",
    "\n",
    "        # attributs protected (visible par les classes enfants) avec _mon_attribut (1 x _)\n",
    "        self._nb_piece = nb_pieces \n",
    "\n",
    "        # attribut publique avec mon_attribut\n",
    "        self.habitants = habitants\n",
    "\n",
    "        # opération sur l'attribut de classe\n",
    "        Maison.__nb_maisons += 1\n",
    "\n",
    "    ## GETTERS\n",
    "    @property\n",
    "    def nb_piece(self): \n",
    "        return self._nb_piece\n",
    "        \n",
    "    @property\n",
    "    def ville(self): \n",
    "        return self.__ville    \n",
    "\n",
    "    ## SETTERS\n",
    "    @nb_piece.setter\n",
    "    def nb_piece(self, piece):\n",
    "        self._nb_piece = piece\n",
    "    \n",
    "    @ville.setter\n",
    "    def ville(self, ville):\n",
    "        self.__ville = ville\n",
    "\n",
    "    ## METHODS\n",
    "    def description(self):\n",
    "        print(f\"Cette maison a {self._nb_piece} pièces, {self.habitants} habitants et est située à {self.__ville}\")\n",
    "\n",
    "    # implémentation du destructeur\n",
    "    def __del__(self):\n",
    "        Maison.__nb_maisons -= 1\n"
   ]
  },
  {
   "cell_type": "markdown",
   "metadata": {},
   "source": [
    "### Test instance"
   ]
  },
  {
   "cell_type": "code",
   "execution_count": 73,
   "metadata": {},
   "outputs": [
    {
     "name": "stdout",
     "output_type": "stream",
     "text": [
      "Cette maison a 4 pièces, 6 habitants et est située à Pacé\n"
     ]
    }
   ],
   "source": [
    "ma_maison = Maison(4, 6, \"Pacé\")\n",
    "\n",
    "ma_maison.description()"
   ]
  },
  {
   "cell_type": "code",
   "execution_count": 53,
   "metadata": {},
   "outputs": [
    {
     "name": "stdout",
     "output_type": "stream",
     "text": [
      "Cette maison a 4 pièces, 6 habitants et est située à Chartres\n",
      "La maison a 6 habitants.\n",
      "La maison est située à Chartres.\n",
      "ERROR: 'Maison' object has no attribute '__ville'\n"
     ]
    }
   ],
   "source": [
    "# Je déménage\n",
    "ma_maison.ville = \"Chartres\"\n",
    "\n",
    "ma_maison.description()\n",
    "print(f\"La maison a {ma_maison.habitants} habitants.\")\n",
    "print(f\"La maison est située à {ma_maison.ville}.\")\n",
    "\n",
    "# retourne une erreur car _ville est privé et doit être appelé à partir du getter\n",
    "try:\n",
    "    print(f\"La maison est située à {ma_maison.__ville}.\") \n",
    "except Exception as e:\n",
    "    print(f\"ERROR: {e}\")"
   ]
  },
  {
   "cell_type": "markdown",
   "metadata": {},
   "source": [
    "### Test variable et méthode de classe"
   ]
  },
  {
   "cell_type": "code",
   "execution_count": 54,
   "metadata": {},
   "outputs": [
    {
     "name": "stdout",
     "output_type": "stream",
     "text": [
      "Nous avons créé 3 maisons\n"
     ]
    }
   ],
   "source": [
    "maison1 =  Maison(4, 6, \"Pacé\")\n",
    "maison2 =  Maison(2, 3, \"Rennes\")\n",
    "\n",
    "print(f\"Nous avons créé {Maison.get_nb_maisons()} maisons\")"
   ]
  },
  {
   "cell_type": "markdown",
   "metadata": {},
   "source": [
    "### Destructeur"
   ]
  },
  {
   "cell_type": "code",
   "execution_count": 70,
   "metadata": {},
   "outputs": [
    {
     "name": "stdout",
     "output_type": "stream",
     "text": [
      "Il y a 1 maisons.\n",
      "Il y a désormais 0 maisons.\n"
     ]
    }
   ],
   "source": [
    "ma_maison = Maison(4, 6, \"Pacé\")\n",
    "\n",
    "print(f\"Il y a {Maison.get_nb_maisons()} maisons.\")\n",
    "del ma_maison\n",
    "## ou deuxième méthode\n",
    "# ma_maison = None\n",
    "print(f\"Il y a désormais {Maison.get_nb_maisons()} maisons.\")"
   ]
  },
  {
   "cell_type": "markdown",
   "metadata": {},
   "source": [
    "## Héritage"
   ]
  },
  {
   "cell_type": "code",
   "execution_count": 56,
   "metadata": {},
   "outputs": [],
   "source": [
    "class Appartement(Maison):\n",
    "    \n",
    "    def __init__(self, nb_piece: int, habitants: int, ville: str, etage: int):\n",
    "\n",
    "        # appel l'__init__ de la classe mère (Maison)\n",
    "        super().__init__(nb_piece, habitants, ville)\n",
    "\n",
    "        self.__etage = etage\n",
    "\n",
    "    @property\n",
    "    def etage(self):\n",
    "        return self.__etage\n",
    "    \n",
    "    @etage.setter\n",
    "    def etage(self, etage: int):\n",
    "        self.__etage = etage\n",
    "\n",
    "    def description(self):\n",
    "        print(f\"Cet appartement a {self._nb_piece} pièces et est au {self.__etage} étage\") ## appel d'un attribut parent protected\n",
    "        \n",
    "        # retourne une erreur car __ville est un attribut de la classe mère privé\n",
    "        try:\n",
    "            print(f\"Cet appartement est a {self.__ville}\") \n",
    "        except Exception as e:\n",
    "            print(f\"ERROR: {e}\")\n",
    "\n",
    "\n",
    "    "
   ]
  },
  {
   "cell_type": "code",
   "execution_count": 57,
   "metadata": {},
   "outputs": [
    {
     "name": "stdout",
     "output_type": "stream",
     "text": [
      "2\n"
     ]
    }
   ],
   "source": [
    "mon_appartement = Appartement(2, 2, \"Pacé\", 3)"
   ]
  },
  {
   "cell_type": "code",
   "execution_count": 58,
   "metadata": {},
   "outputs": [
    {
     "name": "stdout",
     "output_type": "stream",
     "text": [
      "Cet appartement a 2 pièces et est au 3 étage\n",
      "ERROR: 'Appartement' object has no attribute '_Appartement__ville'\n"
     ]
    }
   ],
   "source": [
    "mon_appartement.description()"
   ]
  },
  {
   "cell_type": "markdown",
   "metadata": {},
   "source": [
    "## Polymorphisme\n",
    "\n",
    "* Le mot polymorphisme signifie avoir plusieurs formes. En programmation, polymorphisme signifie que le même nom de fonction (mais des signatures différentes) est utilisé pour différents types.\n",
    "* En Python, Polymorphism nous permet de définir des méthodes dans la classe enfant portant le même nom que les méthodes de la classe mère. En héritage, la classe enfant hérite des méthodes de la classe mère. Toutefois, il est possible de modifier une méthode dans une classe enfant héritée de la classe mère. Ceci est particulièrement utile dans les cas où la méthode héritée de la classe mère ne convient pas tout à fait à la classe enfant. Dans ce cas, nous réimplémentons la méthode dans la classe enfant. Ce processus de réimplémentation d'une méthode dans la classe enfant s'appelle une méthode redéfinie.\n",
    "* Finalement c'est réécrire la méthode du parent"
   ]
  },
  {
   "cell_type": "code",
   "execution_count": 59,
   "metadata": {},
   "outputs": [
    {
     "name": "stdout",
     "output_type": "stream",
     "text": [
      "2\n",
      "2\n",
      "Cette maison a 7 pièces, 0 habitants et est située à Dinard\n",
      "Cet appartement a 3 pièces et est au 3 étage\n",
      "ERROR: 'Appartement' object has no attribute '_Appartement__ville'\n"
     ]
    }
   ],
   "source": [
    "ma_maison_secondaire = Maison(7,0, \"Dinard\")\n",
    "mon_appartement_secondaire = Appartement(3, 0 , 'Paris', 3)\n",
    "\n",
    "ma_maison_secondaire.description()\n",
    "mon_appartement_secondaire.description()"
   ]
  },
  {
   "cell_type": "code",
   "execution_count": 60,
   "metadata": {},
   "outputs": [
    {
     "name": "stdout",
     "output_type": "stream",
     "text": [
      "Cette maison a 7 pièces, 0 habitants et est située à Dinard\n",
      "Cet appartement a 3 pièces et est au 3 étage\n",
      "ERROR: 'Appartement' object has no attribute '_Appartement__ville'\n"
     ]
    }
   ],
   "source": [
    "def presente_toi(obj):\n",
    "    obj.description()\n",
    "\n",
    "presente_toi(ma_maison_secondaire)\n",
    "presente_toi(mon_appartement_secondaire)"
   ]
  },
  {
   "cell_type": "markdown",
   "metadata": {},
   "source": [
    "## Collection"
   ]
  },
  {
   "cell_type": "code",
   "execution_count": 61,
   "metadata": {},
   "outputs": [
    {
     "name": "stdout",
     "output_type": "stream",
     "text": [
      "5\n",
      "4\n",
      "3\n",
      "2\n"
     ]
    }
   ],
   "source": [
    "from random import randrange\n",
    "\n",
    "list_villes = [\"Montauban\", \"Romillé\", \"Pacé\", \"Rennes\"]\n",
    "\n",
    "# Création de la collection\n",
    "mes_appartements = [Appartement(randrange(1,5), randrange(5), list_villes[randrange(3)], randrange(10)) for i in range(4)]"
   ]
  },
  {
   "cell_type": "code",
   "execution_count": 62,
   "metadata": {},
   "outputs": [
    {
     "name": "stdout",
     "output_type": "stream",
     "text": [
      "Cet appartement a 1 pièces et est au 8 étage\n",
      "ERROR: 'Appartement' object has no attribute '_Appartement__ville'\n",
      "Cet appartement a 4 pièces et est au 3 étage\n",
      "ERROR: 'Appartement' object has no attribute '_Appartement__ville'\n",
      "Cet appartement a 2 pièces et est au 4 étage\n",
      "ERROR: 'Appartement' object has no attribute '_Appartement__ville'\n",
      "Cet appartement a 1 pièces et est au 1 étage\n",
      "ERROR: 'Appartement' object has no attribute '_Appartement__ville'\n"
     ]
    }
   ],
   "source": [
    "for a in mes_appartements:\n",
    "    a.description()"
   ]
  },
  {
   "cell_type": "markdown",
   "metadata": {},
   "source": [
    "## Exceptions"
   ]
  },
  {
   "cell_type": "code",
   "execution_count": 63,
   "metadata": {},
   "outputs": [
    {
     "ename": "Exception",
     "evalue": "Division par ZERO",
     "output_type": "error",
     "traceback": [
      "\u001b[1;31m---------------------------------------------------------------------------\u001b[0m",
      "\u001b[1;31mException\u001b[0m                                 Traceback (most recent call last)",
      "Input \u001b[1;32mIn [63]\u001b[0m, in \u001b[0;36m<module>\u001b[1;34m\u001b[0m\n\u001b[0;32m      4\u001b[0m     \u001b[38;5;28;01melse\u001b[39;00m:\n\u001b[0;32m      5\u001b[0m         \u001b[38;5;28;01mraise\u001b[39;00m \u001b[38;5;167;01mException\u001b[39;00m(\u001b[38;5;124m\"\u001b[39m\u001b[38;5;124mDivision par ZERO\u001b[39m\u001b[38;5;124m\"\u001b[39m)\n\u001b[1;32m----> 8\u001b[0m \u001b[43mdiviser\u001b[49m\u001b[43m(\u001b[49m\u001b[38;5;241;43m1\u001b[39;49m\u001b[43m,\u001b[49m\u001b[43m \u001b[49m\u001b[38;5;241;43m0\u001b[39;49m\u001b[43m)\u001b[49m\n",
      "Input \u001b[1;32mIn [63]\u001b[0m, in \u001b[0;36mdiviser\u001b[1;34m(val1, val2)\u001b[0m\n\u001b[0;32m      3\u001b[0m     \u001b[38;5;28;01mreturn\u001b[39;00m val1 \u001b[38;5;241m/\u001b[39m val2\n\u001b[0;32m      4\u001b[0m \u001b[38;5;28;01melse\u001b[39;00m:\n\u001b[1;32m----> 5\u001b[0m     \u001b[38;5;28;01mraise\u001b[39;00m \u001b[38;5;167;01mException\u001b[39;00m(\u001b[38;5;124m\"\u001b[39m\u001b[38;5;124mDivision par ZERO\u001b[39m\u001b[38;5;124m\"\u001b[39m)\n",
      "\u001b[1;31mException\u001b[0m: Division par ZERO"
     ]
    }
   ],
   "source": [
    "def diviser(val1: int, val2: int):\n",
    "    if val2 != 0:\n",
    "        return val1 / val2\n",
    "    else:\n",
    "        raise Exception(\"Division par ZERO\")\n",
    "\n",
    "\n",
    "diviser(1, 0)"
   ]
  },
  {
   "cell_type": "code",
   "execution_count": null,
   "metadata": {},
   "outputs": [
    {
     "name": "stdout",
     "output_type": "stream",
     "text": [
      "division by zero\n",
      "Réessayer avec une autre valeur de diviseur\n"
     ]
    }
   ],
   "source": [
    "def diviser2(val1: int, val2: int):\n",
    "    try:\n",
    "        return val1 / val2\n",
    "    except Exception as e:\n",
    "        print(e)\n",
    "        print(\"Réessayer avec une autre valeur de diviseur\")\n",
    "\n",
    "diviser2(1, 0)"
   ]
  },
  {
   "cell_type": "markdown",
   "metadata": {},
   "source": [
    "### Class exception"
   ]
  },
  {
   "cell_type": "code",
   "execution_count": null,
   "metadata": {},
   "outputs": [],
   "source": [
    "class testException(Exception):\n",
    "    def __init__(self, message = \"Pas d'erreur\"):\n",
    "        super().__init__(message)"
   ]
  },
  {
   "cell_type": "code",
   "execution_count": null,
   "metadata": {},
   "outputs": [
    {
     "name": "stdout",
     "output_type": "stream",
     "text": [
      "Erreur de test\n"
     ]
    },
    {
     "ename": "testException",
     "evalue": "Erreur de test",
     "output_type": "error",
     "traceback": [
      "\u001b[1;31m---------------------------------------------------------------------------\u001b[0m",
      "\u001b[1;31mtestException\u001b[0m                             Traceback (most recent call last)",
      "Input \u001b[1;32mIn [67]\u001b[0m, in \u001b[0;36m<module>\u001b[1;34m\u001b[0m\n\u001b[0;32m      1\u001b[0m \u001b[38;5;28mprint\u001b[39m(testException(\u001b[38;5;124m\"\u001b[39m\u001b[38;5;124mErreur de test\u001b[39m\u001b[38;5;124m\"\u001b[39m))\n\u001b[1;32m----> 2\u001b[0m \u001b[38;5;28;01mraise\u001b[39;00m testException(\u001b[38;5;124m\"\u001b[39m\u001b[38;5;124mErreur de test\u001b[39m\u001b[38;5;124m\"\u001b[39m)\n",
      "\u001b[1;31mtestException\u001b[0m: Erreur de test"
     ]
    }
   ],
   "source": [
    "print(testException(\"Erreur de test\"))\n",
    "raise testException(\"Erreur de test\")"
   ]
  },
  {
   "cell_type": "code",
   "execution_count": null,
   "metadata": {},
   "outputs": [],
   "source": []
  }
 ],
 "metadata": {
  "interpreter": {
   "hash": "3ecb328219053580996b3584c80f5022b9bec0184b2c87a98345795fe7fb8f0c"
  },
  "kernelspec": {
   "display_name": "Python 3.10.2 64-bit",
   "language": "python",
   "name": "python3"
  },
  "language_info": {
   "codemirror_mode": {
    "name": "ipython",
    "version": 3
   },
   "file_extension": ".py",
   "mimetype": "text/x-python",
   "name": "python",
   "nbconvert_exporter": "python",
   "pygments_lexer": "ipython3",
   "version": "3.10.2"
  },
  "orig_nbformat": 4
 },
 "nbformat": 4,
 "nbformat_minor": 2
}
